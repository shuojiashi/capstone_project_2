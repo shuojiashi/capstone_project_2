{
 "cells": [
  {
   "cell_type": "code",
   "execution_count": 2,
   "metadata": {
    "collapsed": true
   },
   "outputs": [],
   "source": [
    "# import important stuff\n",
    "import numpy as np\n",
    "import pandas as pd"
   ]
  },
  {
   "cell_type": "code",
   "execution_count": 3,
   "metadata": {
    "collapsed": true
   },
   "outputs": [],
   "source": [
    "# import visulization modules\n",
    "import matplotlib.pyplot as plt\n",
    "import seaborn as sns\n",
    "sns.set_style('whitegrid')\n",
    "sns.set_context(\"talk\")\n",
    "%matplotlib inline"
   ]
  },
  {
   "cell_type": "code",
   "execution_count": 4,
   "metadata": {
    "collapsed": true
   },
   "outputs": [],
   "source": [
    "# import sklearn modules\n",
    "from sklearn.metrics import mean_squared_error\n",
    "from sklearn.model_selection import train_test_split\n",
    "from sklearn.model_selection import cross_val_score\n",
    "from sklearn.model_selection import GridSearchCV\n",
    "from sklearn.ensemble import RandomForestClassifier\n",
    "from sklearn.ensemble import AdaBoostClassifier\n",
    "from sklearn.linear_model import LogisticRegression\n",
    "from sklearn.neighbors import KNeighborsClassifier\n",
    "from sklearn.metrics import classification_report\n",
    "from sklearn.metrics import confusion_matrix\n",
    "from sklearn.metrics import roc_curve\n",
    "from imblearn.under_sampling import RandomUnderSampler\n",
    "from sklearn.naive_bayes import MultinomialNB\n",
    "from sklearn.tree import DecisionTreeClassifier"
   ]
  },
  {
   "cell_type": "code",
   "execution_count": 5,
   "metadata": {
    "collapsed": true
   },
   "outputs": [],
   "source": [
    "# import word cloud module \n",
    "from os import path\n",
    "from wordcloud import WordCloud\n",
    "\n",
    "# import datetime\n",
    "from datetime import datetime"
   ]
  },
  {
   "cell_type": "code",
   "execution_count": 6,
   "metadata": {},
   "outputs": [],
   "source": [
    "# import the data from csv file with a series of NAN values \n",
    "df= pd.read_csv('./../Consumer_Complaints_sample.csv',parse_dates=['Date received', 'Date sent to company'])"
   ]
  },
  {
   "cell_type": "code",
   "execution_count": 7,
   "metadata": {},
   "outputs": [
    {
     "name": "stdout",
     "output_type": "stream",
     "text": [
      "<class 'pandas.core.frame.DataFrame'>\n",
      "RangeIndex: 104588 entries, 0 to 104587\n",
      "Data columns (total 19 columns):\n",
      "Unnamed: 0                      104588 non-null int64\n",
      "Date received                   104588 non-null datetime64[ns]\n",
      "Product                         104588 non-null object\n",
      "Sub-product                     81021 non-null object\n",
      "Issue                           104588 non-null object\n",
      "Sub-issue                       54877 non-null object\n",
      "Consumer complaint narrative    28579 non-null object\n",
      "Company public response         32819 non-null object\n",
      "Company                         104588 non-null object\n",
      "State                           103344 non-null object\n",
      "ZIP code                        102887 non-null object\n",
      "Tags                            14505 non-null object\n",
      "Consumer consent provided?      50815 non-null object\n",
      "Submitted via                   104588 non-null object\n",
      "Date sent to company            104588 non-null datetime64[ns]\n",
      "Company response to consumer    104588 non-null object\n",
      "Timely response?                104588 non-null object\n",
      "Consumer disputed?              76774 non-null object\n",
      "Complaint ID                    104588 non-null int64\n",
      "dtypes: datetime64[ns](2), int64(2), object(15)\n",
      "memory usage: 15.2+ MB\n"
     ]
    }
   ],
   "source": [
    "# Overlook of the data set\n",
    "df.head()\n",
    "df.info()"
   ]
  },
  {
   "cell_type": "code",
   "execution_count": 8,
   "metadata": {},
   "outputs": [
    {
     "data": {
      "text/plain": [
       "Timestamp('2015-03-20 00:00:00')"
      ]
     },
     "execution_count": 8,
     "metadata": {},
     "output_type": "execute_result"
    }
   ],
   "source": [
    "df['Date received'][0]"
   ]
  },
  {
   "cell_type": "code",
   "execution_count": 9,
   "metadata": {
    "collapsed": true
   },
   "outputs": [],
   "source": [
    "month_order = ['Jan', 'Feb', 'Mar', 'Apr', 'May', 'Jun', 'Jul', 'Aug', 'Sep', 'Oct', 'Nov', 'Dec']\n",
    "day_order = ['Mon', 'Tue', 'Wed', 'Thu', 'Fri', 'Sat', 'Sun']"
   ]
  },
  {
   "cell_type": "code",
   "execution_count": 10,
   "metadata": {
    "collapsed": true
   },
   "outputs": [],
   "source": [
    "df['receive month'] = df['Date received'].apply(lambda x: month_order[x.month-1])\n",
    "\n",
    "month_df = pd.DataFrame(df['receive month'].value_counts()).reset_index()\n",
    "month_df.columns = ['Month', 'Complaints']"
   ]
  },
  {
   "cell_type": "code",
   "execution_count": 11,
   "metadata": {
    "scrolled": false
   },
   "outputs": [
    {
     "data": {
      "image/png": "[encoded data removed]",
      "text/plain": [
       "<matplotlib.figure.Figure at 0x1155474a8>"
      ]
     },
     "metadata": {},
     "output_type": "display_data"
    }
   ],
   "source": [
    "sns.barplot(x='Month', y='Complaints', data=month_df, order=month_order, palette=\"RdYlGn\")\n",
    "plt.title('Number of Complaints By Month',fontsize=16)\n",
    "sns.despine()\n",
    "plt.xlabel('')\n",
    "plt.ylabel('')\n",
    "plt.savefig('./../results/monthly_complaints.png', bbox_inches='tight', dpi = 150)\n",
    "sns.set_style('whitegrid')"
   ]
  },
  {
   "cell_type": "code",
   "execution_count": 12,
   "metadata": {},
   "outputs": [
    {
     "name": "stdout",
     "output_type": "stream",
     "text": [
      "Consumer disputed? receive month        No       Yes\n",
      "0                            Apr  0.826904  0.173096\n",
      "1                            Aug  0.809334  0.190666\n",
      "2                            Dec  0.808694  0.191306\n",
      "3                            Feb  0.813157  0.186843\n",
      "4                            Jan  0.816369  0.183631\n",
      "5                            Jul  0.801177  0.198823\n",
      "6                            Jun  0.778944  0.221056\n",
      "7                            Mar  0.816709  0.183291\n",
      "8                            May  0.794624  0.205376\n",
      "9                            Nov  0.820352  0.179648\n",
      "10                           Oct  0.804426  0.195574\n",
      "11                           Sep  0.805519  0.194481\n"
     ]
    },
    {
     "data": {
      "image/png": "[encoded data removed]",
      "text/plain": [
       "<matplotlib.figure.Figure at 0x117d363c8>"
      ]
     },
     "metadata": {},
     "output_type": "display_data"
    }
   ],
   "source": [
    "df_dispute_avail = df.dropna(axis=0, subset=['Consumer disputed?'])\n",
    "df_dispute_month = df_dispute_avail.groupby('receive month')['Consumer disputed?'].value_counts(normalize=True).unstack().reset_index()\n",
    "print(df_dispute_month)\n",
    "sns.barplot(x='receive month', y='Yes', data = df_dispute_month, order=month_order, color='red')\n",
    "plt.ylabel('Complaint disputed')\n",
    "plt.title('Consumer Dispute Rate By Month',fontsize=16)\n",
    "sns.set_style('whitegrid')\n",
    "sns.despine()\n",
    "plt.xlabel('')\n",
    "plt.ylabel('Complaints Disputed Rate')\n",
    "plt.savefig('./../results/month_dispute.png', bbox_inches='tight', dpi = 150)"
   ]
  },
  {
   "cell_type": "code",
   "execution_count": 13,
   "metadata": {
    "collapsed": true
   },
   "outputs": [],
   "source": [
    "# consumer complaints by day of the week "
   ]
  },
  {
   "cell_type": "code",
   "execution_count": 14,
   "metadata": {
    "collapsed": true
   },
   "outputs": [],
   "source": [
    "\n",
    "df['receive weekday'] = df['Date received'].apply(lambda x: day_order[x.weekday()])\n",
    "\n",
    "\n",
    "weekday_df = pd.DataFrame(df['receive weekday'].value_counts()).reset_index()\n",
    "weekday_df.columns = ['WeekDate', 'Complaints']"
   ]
  },
  {
   "cell_type": "code",
   "execution_count": 15,
   "metadata": {
    "scrolled": true
   },
   "outputs": [
    {
     "data": {
      "image/png": "[encoded data removed]",
      "text/plain": [
       "<matplotlib.figure.Figure at 0x112914400>"
      ]
     },
     "metadata": {},
     "output_type": "display_data"
    }
   ],
   "source": [
    "sns.barplot(x='WeekDate', y='Complaints', data=weekday_df, order=day_order, palette='muted')\n",
    "plt.title('Number of Complaints By Day of the Week',fontsize=14)\n",
    "sns.set_style('whitegrid')\n",
    "sns.despine()\n",
    "plt.xlabel('')\n",
    "plt.ylabel('')\n",
    "plt.savefig('./../results/weekly_complaints.png', bbox_inches='tight', dpi = 150)\n"
   ]
  },
  {
   "cell_type": "code",
   "execution_count": 16,
   "metadata": {},
   "outputs": [
    {
     "ename": "KeyError",
     "evalue": "'receive weekday'",
     "output_type": "error",
     "traceback": [
      "\u001b[0;31m---------------------------------------------------------------------------\u001b[0m",
      "\u001b[0;31mKeyError\u001b[0m                                  Traceback (most recent call last)",
      "\u001b[0;32m<ipython-input-16-9f5796015f3b>\u001b[0m in \u001b[0;36m<module>\u001b[0;34m()\u001b[0m\n\u001b[0;32m----> 1\u001b[0;31m \u001b[0mdf_dispute_weekday\u001b[0m \u001b[0;34m=\u001b[0m \u001b[0mdf_dispute_avail\u001b[0m\u001b[0;34m.\u001b[0m\u001b[0mgroupby\u001b[0m\u001b[0;34m(\u001b[0m\u001b[0;34m'receive weekday'\u001b[0m\u001b[0;34m)\u001b[0m\u001b[0;34m[\u001b[0m\u001b[0;34m'Consumer disputed?'\u001b[0m\u001b[0;34m]\u001b[0m\u001b[0;34m.\u001b[0m\u001b[0mvalue_counts\u001b[0m\u001b[0;34m(\u001b[0m\u001b[0mnormalize\u001b[0m\u001b[0;34m=\u001b[0m\u001b[0;32mTrue\u001b[0m\u001b[0;34m)\u001b[0m\u001b[0;34m.\u001b[0m\u001b[0munstack\u001b[0m\u001b[0;34m(\u001b[0m\u001b[0;34m)\u001b[0m\u001b[0;34m.\u001b[0m\u001b[0mreset_index\u001b[0m\u001b[0;34m(\u001b[0m\u001b[0;34m)\u001b[0m\u001b[0;34m\u001b[0m\u001b[0m\n\u001b[0m\u001b[1;32m      2\u001b[0m \u001b[0mprint\u001b[0m\u001b[0;34m(\u001b[0m\u001b[0mdf_dispute_weekday\u001b[0m\u001b[0;34m)\u001b[0m\u001b[0;34m\u001b[0m\u001b[0m\n\u001b[1;32m      3\u001b[0m \u001b[0msns\u001b[0m\u001b[0;34m.\u001b[0m\u001b[0mbarplot\u001b[0m\u001b[0;34m(\u001b[0m\u001b[0mx\u001b[0m\u001b[0;34m=\u001b[0m\u001b[0;34m'receive weekday'\u001b[0m\u001b[0;34m,\u001b[0m \u001b[0my\u001b[0m\u001b[0;34m=\u001b[0m\u001b[0;34m'Yes'\u001b[0m\u001b[0;34m,\u001b[0m \u001b[0mdata\u001b[0m \u001b[0;34m=\u001b[0m \u001b[0mdf_dispute_weekday\u001b[0m\u001b[0;34m,\u001b[0m \u001b[0morder\u001b[0m\u001b[0;34m=\u001b[0m\u001b[0mday_order\u001b[0m\u001b[0;34m,\u001b[0m \u001b[0mpalette\u001b[0m\u001b[0;34m=\u001b[0m\u001b[0;34m\"deep\"\u001b[0m\u001b[0;34m)\u001b[0m\u001b[0;34m\u001b[0m\u001b[0m\n\u001b[1;32m      4\u001b[0m \u001b[0mplt\u001b[0m\u001b[0;34m.\u001b[0m\u001b[0mylabel\u001b[0m\u001b[0;34m(\u001b[0m\u001b[0;34m'Complaint disputed'\u001b[0m\u001b[0;34m)\u001b[0m\u001b[0;34m\u001b[0m\u001b[0m\n\u001b[1;32m      5\u001b[0m \u001b[0mplt\u001b[0m\u001b[0;34m.\u001b[0m\u001b[0mtitle\u001b[0m\u001b[0;34m(\u001b[0m\u001b[0;34m'Consumer Dispute Rate By Weekday'\u001b[0m\u001b[0;34m,\u001b[0m\u001b[0mfontsize\u001b[0m\u001b[0;34m=\u001b[0m\u001b[0;36m16\u001b[0m\u001b[0;34m)\u001b[0m\u001b[0;34m\u001b[0m\u001b[0m\n",
      "\u001b[0;32m/anaconda/lib/python3.6/site-packages/pandas/core/generic.py\u001b[0m in \u001b[0;36mgroupby\u001b[0;34m(self, by, axis, level, as_index, sort, group_keys, squeeze, **kwargs)\u001b[0m\n\u001b[1;32m   4414\u001b[0m         return groupby(self, by=by, axis=axis, level=level, as_index=as_index,\n\u001b[1;32m   4415\u001b[0m                        \u001b[0msort\u001b[0m\u001b[0;34m=\u001b[0m\u001b[0msort\u001b[0m\u001b[0;34m,\u001b[0m \u001b[0mgroup_keys\u001b[0m\u001b[0;34m=\u001b[0m\u001b[0mgroup_keys\u001b[0m\u001b[0;34m,\u001b[0m \u001b[0msqueeze\u001b[0m\u001b[0;34m=\u001b[0m\u001b[0msqueeze\u001b[0m\u001b[0;34m,\u001b[0m\u001b[0;34m\u001b[0m\u001b[0m\n\u001b[0;32m-> 4416\u001b[0;31m                        **kwargs)\n\u001b[0m\u001b[1;32m   4417\u001b[0m \u001b[0;34m\u001b[0m\u001b[0m\n\u001b[1;32m   4418\u001b[0m     def asfreq(self, freq, method=None, how=None, normalize=False,\n",
      "\u001b[0;32m/anaconda/lib/python3.6/site-packages/pandas/core/groupby.py\u001b[0m in \u001b[0;36mgroupby\u001b[0;34m(obj, by, **kwds)\u001b[0m\n\u001b[1;32m   1697\u001b[0m         \u001b[0;32mraise\u001b[0m \u001b[0mTypeError\u001b[0m\u001b[0;34m(\u001b[0m\u001b[0;34m'invalid type: %s'\u001b[0m \u001b[0;34m%\u001b[0m \u001b[0mtype\u001b[0m\u001b[0;34m(\u001b[0m\u001b[0mobj\u001b[0m\u001b[0;34m)\u001b[0m\u001b[0;34m)\u001b[0m\u001b[0;34m\u001b[0m\u001b[0m\n\u001b[1;32m   1698\u001b[0m \u001b[0;34m\u001b[0m\u001b[0m\n\u001b[0;32m-> 1699\u001b[0;31m     \u001b[0;32mreturn\u001b[0m \u001b[0mklass\u001b[0m\u001b[0;34m(\u001b[0m\u001b[0mobj\u001b[0m\u001b[0;34m,\u001b[0m \u001b[0mby\u001b[0m\u001b[0;34m,\u001b[0m \u001b[0;34m**\u001b[0m\u001b[0mkwds\u001b[0m\u001b[0;34m)\u001b[0m\u001b[0;34m\u001b[0m\u001b[0m\n\u001b[0m\u001b[1;32m   1700\u001b[0m \u001b[0;34m\u001b[0m\u001b[0m\n\u001b[1;32m   1701\u001b[0m \u001b[0;34m\u001b[0m\u001b[0m\n",
      "\u001b[0;32m/anaconda/lib/python3.6/site-packages/pandas/core/groupby.py\u001b[0m in \u001b[0;36m__init__\u001b[0;34m(self, obj, keys, axis, level, grouper, exclusions, selection, as_index, sort, group_keys, squeeze, **kwargs)\u001b[0m\n\u001b[1;32m    390\u001b[0m                                                     \u001b[0mlevel\u001b[0m\u001b[0;34m=\u001b[0m\u001b[0mlevel\u001b[0m\u001b[0;34m,\u001b[0m\u001b[0;34m\u001b[0m\u001b[0m\n\u001b[1;32m    391\u001b[0m                                                     \u001b[0msort\u001b[0m\u001b[0;34m=\u001b[0m\u001b[0msort\u001b[0m\u001b[0;34m,\u001b[0m\u001b[0;34m\u001b[0m\u001b[0m\n\u001b[0;32m--> 392\u001b[0;31m                                                     mutated=self.mutated)\n\u001b[0m\u001b[1;32m    393\u001b[0m \u001b[0;34m\u001b[0m\u001b[0m\n\u001b[1;32m    394\u001b[0m         \u001b[0mself\u001b[0m\u001b[0;34m.\u001b[0m\u001b[0mobj\u001b[0m \u001b[0;34m=\u001b[0m \u001b[0mobj\u001b[0m\u001b[0;34m\u001b[0m\u001b[0m\n",
      "\u001b[0;32m/anaconda/lib/python3.6/site-packages/pandas/core/groupby.py\u001b[0m in \u001b[0;36m_get_grouper\u001b[0;34m(obj, key, axis, level, sort, mutated)\u001b[0m\n\u001b[1;32m   2688\u001b[0m                 \u001b[0min_axis\u001b[0m\u001b[0;34m,\u001b[0m \u001b[0mname\u001b[0m\u001b[0;34m,\u001b[0m \u001b[0mlevel\u001b[0m\u001b[0;34m,\u001b[0m \u001b[0mgpr\u001b[0m \u001b[0;34m=\u001b[0m \u001b[0;32mFalse\u001b[0m\u001b[0;34m,\u001b[0m \u001b[0;32mNone\u001b[0m\u001b[0;34m,\u001b[0m \u001b[0mgpr\u001b[0m\u001b[0;34m,\u001b[0m \u001b[0;32mNone\u001b[0m\u001b[0;34m\u001b[0m\u001b[0m\n\u001b[1;32m   2689\u001b[0m             \u001b[0;32melse\u001b[0m\u001b[0;34m:\u001b[0m\u001b[0;34m\u001b[0m\u001b[0m\n\u001b[0;32m-> 2690\u001b[0;31m                 \u001b[0;32mraise\u001b[0m \u001b[0mKeyError\u001b[0m\u001b[0;34m(\u001b[0m\u001b[0mgpr\u001b[0m\u001b[0;34m)\u001b[0m\u001b[0;34m\u001b[0m\u001b[0m\n\u001b[0m\u001b[1;32m   2691\u001b[0m         \u001b[0;32melif\u001b[0m \u001b[0misinstance\u001b[0m\u001b[0;34m(\u001b[0m\u001b[0mgpr\u001b[0m\u001b[0;34m,\u001b[0m \u001b[0mGrouper\u001b[0m\u001b[0;34m)\u001b[0m \u001b[0;32mand\u001b[0m \u001b[0mgpr\u001b[0m\u001b[0;34m.\u001b[0m\u001b[0mkey\u001b[0m \u001b[0;32mis\u001b[0m \u001b[0;32mnot\u001b[0m \u001b[0;32mNone\u001b[0m\u001b[0;34m:\u001b[0m\u001b[0;34m\u001b[0m\u001b[0m\n\u001b[1;32m   2692\u001b[0m             \u001b[0;31m# Add key to exclusions\u001b[0m\u001b[0;34m\u001b[0m\u001b[0;34m\u001b[0m\u001b[0m\n",
      "\u001b[0;31mKeyError\u001b[0m: 'receive weekday'"
     ]
    }
   ],
   "source": [
    "df_dispute_weekday = df_dispute_avail.groupby('receive weekday')['Consumer disputed?'].value_counts(normalize=True).unstack().reset_index()\n",
    "print(df_dispute_weekday)\n",
    "sns.barplot(x='receive weekday', y='Yes', data = df_dispute_weekday, order=day_order, palette=\"deep\")\n",
    "plt.ylabel('Complaint disputed')\n",
    "plt.title('Consumer Dispute Rate By Weekday',fontsize=16)\n",
    "sns.set_style('whitegrid')\n",
    "sns.despine()\n",
    "plt.xlabel('Weekday')\n",
    "plt.ylabel('Complaints Disputed Rate')\n",
    "plt.savefig('./../results/weekday_dispute.png', bbox_inches='tight', dpi = 150)\n"
   ]
  },
  {
   "cell_type": "code",
   "execution_count": null,
   "metadata": {
    "collapsed": true
   },
   "outputs": [],
   "source": [
    "# consumer complaints of only mortgage products by day of the week "
   ]
  },
  {
   "cell_type": "code",
   "execution_count": null,
   "metadata": {},
   "outputs": [],
   "source": [
    "\n",
    "weekday_mortgage_df = pd.DataFrame(df[df['Product_new']=='Mortgage']['receive weekday'].value_counts()).reset_index()\n",
    "weekday_mortgage_df.columns = ['WeekDate', 'Complaints']\n",
    "sns.barplot(x='WeekDate', y='Complaints', data=weekday_mortgage_df, order=day_order, color='red')"
   ]
  },
  {
   "cell_type": "code",
   "execution_count": null,
   "metadata": {
    "collapsed": true
   },
   "outputs": [],
   "source": [
    "df['Year'] = df['Date received'].apply(lambda x: x.year)"
   ]
  },
  {
   "cell_type": "code",
   "execution_count": null,
   "metadata": {},
   "outputs": [],
   "source": [
    "df_year = pd.DataFrame(df['Year'].value_counts().reset_index())\n",
    "df_year.columns=['Year', 'Complaints']\n",
    "plt.figure(figsize=(16,6))\n",
    "sns.pointplot(x='Year', y='Complaints', data=df_year)\n",
    "plt.ylabel('Number of Complaints')"
   ]
  },
  {
   "cell_type": "code",
   "execution_count": null,
   "metadata": {
    "scrolled": true
   },
   "outputs": [],
   "source": [
    "#how many complaints for each financial product?\n",
    "df_product = pd.DataFrame(df['Product'].value_counts()).reset_index()\n",
    "df_product.columns = ['Product','Complaints Count']\n",
    "df_product"
   ]
  },
  {
   "cell_type": "code",
   "execution_count": null,
   "metadata": {},
   "outputs": [],
   "source": [
    "# The product list above seem overlapping with each other. Check the appearance year of the complaints for each product. \n",
    "df.groupby('Product')['Year'].value_counts(normalize=True).unstack()"
   ]
  },
  {
   "cell_type": "markdown",
   "metadata": {},
   "source": [
    "### Many of the product in the list were changed over the years. For example, credit card, prepaid card were in earlier years but stopped (NaN) after 2017. Instead Credit card or prepaid card feature only appears in later years. Next, I combine some of the products to simplify the product feature. This also makes it more consistent over the years. "
   ]
  },
  {
   "cell_type": "code",
   "execution_count": null,
   "metadata": {
    "collapsed": true
   },
   "outputs": [],
   "source": [
    "#Many products seem to be replications. Define a function here to fix that.\n",
    "def categorize_feature(ls):\n",
    "    new_ls = []\n",
    "    for i, prod in enumerate(ls):\n",
    "        if prod in ['Credit reporting', 'Credit reporting, credit repair services, or other personal consumer reports']:\n",
    "            new_ls.append('Credit reporting, or other consumer reports')\n",
    "        elif prod in ['Credit card', 'Prepaid card', 'Credit card or prepaid card']:\n",
    "            new_ls.append('Credit card or prepaid card')\n",
    "        elif prod in ['Student loan', 'Consumer Loan', 'Vehicle loan or lease', 'Payday loan', 'Payday loan, title loan, or personal loan']:\n",
    "            new_ls.append('Personal loans')\n",
    "        elif prod in ['Money transfer, virtual currency, or money service', 'Money transfers', 'Virtual currency']:\n",
    "            new_ls.append('Money transfer, virtual currency, or money service')\n",
    "        elif prod in ['Checking or savings account', 'Bank account or service']:\n",
    "            new_ls.append('Bank account or service')\n",
    "        else:\n",
    "            new_ls.append(prod)\n",
    "    return new_ls\n",
    "\n",
    "new_list = categorize_feature(df['Product'])"
   ]
  },
  {
   "cell_type": "code",
   "execution_count": null,
   "metadata": {
    "collapsed": true
   },
   "outputs": [],
   "source": [
    "df['Product_new'] = pd.Series(new_list)"
   ]
  },
  {
   "cell_type": "code",
   "execution_count": null,
   "metadata": {
    "scrolled": true
   },
   "outputs": [],
   "source": [
    "# Value counts of the simplified product list \n",
    "product_order = pd.Series(new_list).value_counts().index\n",
    "print('How many complaints per product:')\n",
    "print(pd.Series(new_list).value_counts())\n",
    "\n",
    "sns.countplot(data=df, x='Product_new', order = product_order, palette='muted')\n",
    "plt.xticks(rotation=40, ha=\"right\")\n",
    "plt.title('Consumer Complaints By Product',fontsize=16)\n",
    "sns.set_style('whitegrid')\n",
    "sns.despine()\n",
    "plt.xlabel('')\n",
    "plt.ylabel('Number of Consumer Complaints')\n",
    "plt.savefig('./../results/product_complaints.png', bbox_inches='tight', dpi = 150)"
   ]
  },
  {
   "cell_type": "code",
   "execution_count": null,
   "metadata": {
    "scrolled": true
   },
   "outputs": [],
   "source": [
    "# Percentage of complaints being disputed for the simplified products\n",
    "\n",
    "df_dispute = df.dropna(axis=0, subset=['Consumer disputed?'])\n",
    "df_dispute_product = df_dispute.groupby('Product_new')['Consumer disputed?'].value_counts(normalize=True).unstack().reset_index()\n",
    "\n",
    "sns.barplot(data=df_dispute_product, y='Product_new', x='Yes',order = product_order, color='red')\n",
    "\n",
    "#sns.barplot(data=df_dispute, x='Product_new', hue='Consumer disputed?',order = pd.Series(new_list).value_counts().index)\n",
    "\n",
    "plt.title('Consumer Dispute Rate By Product',fontsize=16)\n",
    "sns.set_style('whitegrid')\n",
    "sns.despine()\n",
    "plt.xlabel('Percentage of Complaints Disputed By Consumer')\n",
    "plt.ylabel('Product')\n",
    "plt.savefig('./../results/dispute_product.png', bbox_inches='tight', dpi = 150)"
   ]
  },
  {
   "cell_type": "code",
   "execution_count": null,
   "metadata": {
    "scrolled": true
   },
   "outputs": [],
   "source": [
    "# check the sub-product feature:\n",
    "df[df['Product_new']=='Mortgage']['Sub-product'].value_counts()"
   ]
  },
  {
   "cell_type": "code",
   "execution_count": null,
   "metadata": {
    "scrolled": true
   },
   "outputs": [],
   "source": [
    "# check the value counts of the 'Issue' feature\n",
    "df['Issue'].value_counts()\n",
    "df['Issue'].nunique()"
   ]
  },
  {
   "cell_type": "code",
   "execution_count": null,
   "metadata": {},
   "outputs": [],
   "source": [
    "# Word cloud from issue\n",
    "\n",
    "all_tags = []\n",
    "for iter_row, row in df.iterrows():\n",
    "    my_tags = row['Issue'].split(',')\n",
    "    for tag in my_tags:\n",
    "        all_tags.append(tag)\n",
    "\n",
    "\n",
    "#Read the whole text.\n",
    "text = ' '.join(all_tags)\n",
    "\n",
    "text\n",
    "# Generate a word cloud image\n",
    "wordcloud = WordCloud(max_font_size=40).generate(text)\n",
    "\n",
    "# Display the generated image:\n",
    "# the matplotlib way:\n",
    "import matplotlib.pyplot as plt\n",
    "plt.figure(figsize=(16,10))\n",
    "plt.imshow(wordcloud, interpolation='bilinear')\n",
    "plt.axis(\"off\")\n",
    "plt.savefig('./../results/issue_wordcloud.png',bbox_inches='tight', dpi = 150)\n",
    "plt.show()"
   ]
  },
  {
   "cell_type": "code",
   "execution_count": null,
   "metadata": {
    "collapsed": true
   },
   "outputs": [],
   "source": [
    "top_issue = list(pd.DataFrame(df['Issue'].value_counts()[0:30]).index)\n",
    "\n",
    "df_top_issue = df[df['Issue'].isin(top_issue)]"
   ]
  },
  {
   "cell_type": "code",
   "execution_count": null,
   "metadata": {},
   "outputs": [],
   "source": [
    "df_top_issue['Issue'].value_counts().head(5)"
   ]
  },
  {
   "cell_type": "code",
   "execution_count": null,
   "metadata": {
    "collapsed": true
   },
   "outputs": [],
   "source": [
    "top_company = list(pd.DataFrame(df_top_issue.Company.value_counts()[0:30]).index)\n",
    "df_top_issue_comp = df_top_issue[df_top_issue['Company'].isin(top_company)]"
   ]
  },
  {
   "cell_type": "code",
   "execution_count": null,
   "metadata": {},
   "outputs": [],
   "source": [
    "df_top_issue_comp['Company'].value_counts().head(5)"
   ]
  },
  {
   "cell_type": "code",
   "execution_count": null,
   "metadata": {
    "collapsed": true
   },
   "outputs": [],
   "source": [
    "# choose categoric columns that we are using for initial test\n",
    "categoric = df_top_issue_comp[['Product','Issue', 'Company', 'Consumer consent provided?', 'Submitted via', 'Timely response?', 'Company response to consumer']]\n",
    "target_d = df_top_issue_comp['Consumer disputed?']"
   ]
  },
  {
   "cell_type": "code",
   "execution_count": null,
   "metadata": {
    "collapsed": true
   },
   "outputs": [],
   "source": [
    "df_dummy_cate = pd.get_dummies(data=categoric, drop_first=True)\n",
    "target_dummy = pd.get_dummies(data=target_d, drop_first=True)\n",
    "df_dummy = df_dummy_cate.join(target_dummy)"
   ]
  },
  {
   "cell_type": "code",
   "execution_count": null,
   "metadata": {
    "collapsed": true
   },
   "outputs": [],
   "source": [
    "#df_dummy.corr()['Yes']"
   ]
  },
  {
   "cell_type": "code",
   "execution_count": null,
   "metadata": {},
   "outputs": [],
   "source": [
    "\n",
    "#check how many complaints were disputed for each company response. \n",
    "print(df_top_issue_comp.groupby('Company response to consumer')['Consumer disputed?'].value_counts(normalize=True).unstack().reset_index())\n",
    "df_response = df_top_issue_comp.groupby('Company response to consumer')['Consumer disputed?'].value_counts(normalize=True).unstack().reset_index()\n",
    "df_response.dropna(subset=['Yes'], inplace=True)\n",
    "sns.barplot(y='Company response to consumer', x='Yes', data = df_response, color='red')\n",
    "plt.xlabel('Complaint disputed')\n",
    "plt.title('Consumer Dispute Rate By Company Response',fontsize=16)\n",
    "sns.set_style('whitegrid')\n",
    "sns.despine()\n",
    "plt.xlabel('Percentage of Complaints Disputed By Consumer')\n",
    "plt.ylabel('Company Response')\n",
    "plt.savefig('./../results/company_response_dispute.png', bbox_inches='tight', dpi = 150)"
   ]
  },
  {
   "cell_type": "code",
   "execution_count": null,
   "metadata": {},
   "outputs": [],
   "source": [
    "# find the values counts of the public response from companies\n",
    "df_company_response = df.dropna(axis=0, subset=['Company public response'])\n",
    "print(df_company_response['Company public response'].value_counts())\n",
    "df_company_response_order = df_company_response['Company public response'].value_counts().index[0:-1]"
   ]
  },
  {
   "cell_type": "code",
   "execution_count": null,
   "metadata": {},
   "outputs": [],
   "source": [
    "# disputed rate for public company responses\n",
    "df_company_response_dispute = df_company_response.dropna(axis=0, subset=['Consumer disputed?'])\n",
    "df_company_response_dispute_rate=df_company_response_dispute.groupby('Company public response')['Consumer disputed?'].value_counts(normalize=True).unstack().reset_index()\n",
    "# set value to 0 instead of NaN for one input.\n",
    "df_company_response_dispute_rate.at[2, 'Yes'] =0\n",
    "sns.barplot(y='Company public response', x='Yes', data = df_company_response_dispute_rate.sort_values('Yes'), palette='Greens')\n",
    "plt.title('Consumer Dispute Rate By Company Public Response',fontsize=16)\n",
    "sns.set_style('whitegrid')\n",
    "sns.despine()\n",
    "plt.xlabel('Percentage of Complaints Disputed By Consumer')\n",
    "plt.ylabel('')\n",
    "plt.savefig('./../results/public_company_response_dispute.png', bbox_inches='tight', dpi = 150)"
   ]
  },
  {
   "cell_type": "code",
   "execution_count": null,
   "metadata": {
    "collapsed": true
   },
   "outputs": [],
   "source": [
    "df['narative_bool'] = pd.isnull(df['Consumer complaint narrative'])"
   ]
  },
  {
   "cell_type": "code",
   "execution_count": null,
   "metadata": {
    "collapsed": true
   },
   "outputs": [],
   "source": [
    "df['narative_int'] = df['narative_bool'].astype(int)"
   ]
  },
  {
   "cell_type": "code",
   "execution_count": null,
   "metadata": {
    "scrolled": true
   },
   "outputs": [],
   "source": [
    "# did narrative or not have an effect on dispute?\n",
    "df.groupby('Consumer disputed?')['narative_bool'].value_counts(normalize=True).unstack()"
   ]
  },
  {
   "cell_type": "code",
   "execution_count": null,
   "metadata": {
    "scrolled": true
   },
   "outputs": [],
   "source": [
    "# any product particularly easy to be disputed?\n",
    "df_product = df.groupby('Product')['Consumer disputed?'].value_counts(normalize=True).unstack().reset_index()[:-1]\n",
    "sns.barplot(y='Product', x='Yes', data = df_product.sort_values('Yes'), palette='Blues')\n",
    "plt.xlabel('Complaint disputed')"
   ]
  },
  {
   "cell_type": "code",
   "execution_count": null,
   "metadata": {
    "scrolled": false
   },
   "outputs": [],
   "source": [
    "#most appeared companies VS disputed?\n",
    "\n",
    "df_comp = df_top_issue_comp.groupby('Company')['Consumer disputed?'].value_counts(normalize=True).unstack().reset_index()\n",
    "plt.figure(figsize=(12,12))\n",
    "sns.barplot(y='Company', x='Yes', data = df_comp.sort_values('Yes'))\n",
    "plt.title('Consumer Dispute Rate By Company (top30)',fontsize=16)\n",
    "sns.set_style('whitegrid')\n",
    "sns.despine()\n",
    "plt.xlabel('Percentage of Complaints Disputed By Consumer')\n",
    "plt.ylabel('')\n",
    "plt.savefig('./../results/company_dispute.png', bbox_inches='tight', dpi = 150)\n"
   ]
  },
  {
   "cell_type": "code",
   "execution_count": null,
   "metadata": {},
   "outputs": [],
   "source": [
    "#check how many complaints were disputed. \n",
    "sns.countplot(df['Consumer disputed?'], palette=['red','green'])\n",
    "plt.title('Consumer Dispute Counts',fontsize=16)\n",
    "sns.set_style('whitegrid')\n",
    "sns.despine()\n",
    "plt.ylabel('Count of Complaints')\n",
    "plt.savefig('./../results/complaint_dispute.png', bbox_inches='tight', dpi = 150)"
   ]
  },
  {
   "cell_type": "code",
   "execution_count": null,
   "metadata": {
    "collapsed": true
   },
   "outputs": [],
   "source": [
    "# drop the rows where 'consumer disputed?' is missing\n",
    "df.dropna(axis=0, subset=['Consumer disputed?'], inplace=True)"
   ]
  },
  {
   "cell_type": "code",
   "execution_count": null,
   "metadata": {},
   "outputs": [],
   "source": [
    "\n",
    "df_nara_bool = df_top_issue_comp['Consumer complaint narrative'].fillna(0)\n",
    "\n",
    "df_nara_bool2=[]\n",
    "for nara in df_nara_bool:\n",
    "    if nara is not 0:\n",
    "        df_nara_bool2.append(1)\n",
    "    else: \n",
    "        df_nara_bool2.append(0)\n",
    "        \n",
    "df_top_issue_comp['Narrative_bool'] = df_nara_bool2"
   ]
  },
  {
   "cell_type": "code",
   "execution_count": null,
   "metadata": {
    "collapsed": true
   },
   "outputs": [],
   "source": [
    "df_top_issue_comp_short = df_top_issue_comp.drop(['Unnamed: 0', 'Sub-issue', 'Company public response', 'Consumer consent provided?', 'State', 'ZIP code', 'Date sent to company', 'Date received', 'Consumer complaint narrative','Complaint ID', 'Tags'],axis=1)"
   ]
  },
  {
   "cell_type": "code",
   "execution_count": null,
   "metadata": {},
   "outputs": [],
   "source": [
    "df_top_issue_comp_short.info()"
   ]
  },
  {
   "cell_type": "code",
   "execution_count": null,
   "metadata": {
    "collapsed": true
   },
   "outputs": [],
   "source": [
    "df_dummies = pd.get_dummies(data=df_top_issue_comp_short.drop(['Consumer disputed?','Narrative_bool'], axis=1), drop_first=True)"
   ]
  },
  {
   "cell_type": "code",
   "execution_count": null,
   "metadata": {},
   "outputs": [],
   "source": [
    "df_dummies.info()"
   ]
  },
  {
   "cell_type": "code",
   "execution_count": null,
   "metadata": {},
   "outputs": [],
   "source": [
    "# Identify variables\n",
    "X = df_dummies.join(df_top_issue_comp_short['Narrative_bool'])\n",
    "target_map = {'Yes': 1, 'No':0}\n",
    "y = df_top_issue_comp['Consumer disputed?'].map(target_map)\n",
    "\n",
    "# Splitting into train and test sets\n",
    "X_train, X_test, y_train, y_test = train_test_split(X, y, test_size=0.7, random_state=41)\n",
    "\n",
    "\n",
    "rus = RandomUnderSampler(random_state=41)\n",
    "X_rus, y_rus = rus.fit_sample(X=X_train, y=y_train)\n",
    "X_rus_test, y_rus_test = rus.fit_sample(X=X_test, y=y_test)\n",
    "\n",
    "print('Raw Training Set Percent Yes: {:.1f}%'.format(\n",
    "    len(y_train[y_train == 1])/len(y_train)*100))\n",
    "print('Resampled Training Set Percent Yes: {}%'.format(\n",
    "    len(y_rus[y_rus == 1])/len(y_rus)*100))"
   ]
  },
  {
   "cell_type": "code",
   "execution_count": null,
   "metadata": {},
   "outputs": [],
   "source": [
    "#Random forest classifier parameter optimization:\n",
    "\n",
    "rf = RandomForestClassifier()\n",
    "param_grid = {\"n_estimators\": [100, 200, 300],\n",
    "              \"max_features\": [75, 100],\n",
    "              \"max_depth\": [3, 5, 10]\n",
    "              }\n",
    "\n",
    "grid_rf = GridSearchCV(rf, param_grid=param_grid, cv=5)\n",
    "grid_rf.fit(X_rus, y_rus)\n",
    "\n",
    "# Printing the best score from the model\n",
    "print('Best Score:', grid_rf.best_score_)\n",
    "\n",
    "# Saving and printing the best parameters from the model\n",
    "best_params = grid_rf.best_params_\n",
    "print('Best Parameters:', best_params)"
   ]
  },
  {
   "cell_type": "code",
   "execution_count": null,
   "metadata": {},
   "outputs": [],
   "source": [
    "#initiate a instance for classifier\n",
    "rf = RandomForestClassifier(**best_params)\n",
    "\n",
    "# Fit the classifier to the training data\n",
    "rf.fit(X_rus, y_rus)\n",
    "\n",
    "# Predict the labels of the test data: y_pred\n",
    "y_pred = rf.predict(X_rus_test)\n",
    "\n",
    "scores_rf_train = cross_val_score(rf, X_rus, y_rus, cv=5)\n",
    "print('Cross Validation Accuracy Scores - Training Set: {:.5f}(+/- {:.2f})'.format(scores_rf_train.mean(), \n",
    "                                                                                 scores_rf_train.std()*2))\n",
    "scores_rf_test = cross_val_score(rf, X_rus_test, y_rus_test, cv=5)\n",
    "print('Cross Validation Accuracy Scores - Test Set: {:.5f}(+/- {:.2f})'.format(scores_rf_test.mean(), \n",
    "                                                                                 scores_rf_test.std()*2))\n",
    "\n",
    "# Generate the confusion matrix and classification report\n",
    "print('Confusion matrix on the test data:')\n",
    "print(confusion_matrix(y_rus_test, y_pred))\n",
    "print('Classification report on the test data:')\n",
    "print(classification_report(y_rus_test, y_pred))"
   ]
  },
  {
   "cell_type": "code",
   "execution_count": null,
   "metadata": {},
   "outputs": [],
   "source": [
    "len(X)"
   ]
  },
  {
   "cell_type": "code",
   "execution_count": null,
   "metadata": {},
   "outputs": [],
   "source": [
    "df_narative = df.dropna(axis=0, subset=['Consumer complaint narrative'])\n",
    "df_narative['NarativeLength'] = [len(nara) for nara in df_narative['Consumer complaint narrative']]\n",
    "# length of the narrative VS consumer disputed?\n",
    "plt.figure(figsize=(8,6))\n",
    "sns.boxplot(data=df_narative, y='NarativeLength', x='Consumer disputed?', order=['Yes', 'No'],palette=['red', 'green'])\n",
    "\n",
    "plt.title('Consumer Dispute VS Narrative Length',fontsize=16)\n",
    "sns.set_style('whitegrid')\n",
    "sns.despine()\n",
    "plt.ylabel('Consumer Narrative Length')\n",
    "plt.xlabel('Consumer disputed?')\n",
    "plt.savefig('./../results/narrativelength_dispute.png', bbox_inches='tight', dpi = 150)\n"
   ]
  },
  {
   "cell_type": "code",
   "execution_count": null,
   "metadata": {},
   "outputs": [],
   "source": [
    "df_narrative_bool = df.groupby('Narrative_bool')['Consumer disputed?'].value_counts(normalize=True).unstack().reset_index()\n",
    "df_narrative_bool\n",
    "sns.barplot(x='Narrative_bool', y='Yes', data = df_narrative_bool.sort_values('Yes'))\n",
    "plt.ylabel('Complaint disputed')\n",
    "plt.xlabel('Whether Consumer Authorize Narrative')"
   ]
  },
  {
   "cell_type": "code",
   "execution_count": null,
   "metadata": {
    "collapsed": true
   },
   "outputs": [],
   "source": [
    "#nltk.download_shell()"
   ]
  },
  {
   "cell_type": "code",
   "execution_count": null,
   "metadata": {
    "collapsed": true
   },
   "outputs": [],
   "source": [
    "import string\n",
    "from nltk.corpus import stopwords\n",
    "\n",
    "\n",
    "def text_process(mess):\n",
    "    \"\"\"\n",
    "    Takes in a string of text, then performs the following:\n",
    "    1. Remove all punctuation\n",
    "    2. Remove all stopwords\n",
    "    3. Returns a list of the cleaned text\n",
    "    \"\"\"\n",
    "    # Check characters to see if they are in punctuation\n",
    "    nopunc = [char for char in mess if char not in string.punctuation]\n",
    "\n",
    "    # Join the characters again to form the string.\n",
    "    nopunc = ''.join(nopunc)\n",
    "    \n",
    "    # Now just remove any stopwords\n",
    "    return [word for word in nopunc.split() if word.lower() not in stopwords.words('english')]"
   ]
  },
  {
   "cell_type": "code",
   "execution_count": null,
   "metadata": {},
   "outputs": [],
   "source": [
    "df_narative['Consumer disputed?'].value_counts()"
   ]
  },
  {
   "cell_type": "code",
   "execution_count": null,
   "metadata": {},
   "outputs": [],
   "source": [
    "df_narative['Consumer complaint narrative'].head(1).apply(text_process)"
   ]
  },
  {
   "cell_type": "code",
   "execution_count": null,
   "metadata": {
    "collapsed": true
   },
   "outputs": [],
   "source": [
    "from sklearn.feature_extraction.text import CountVectorizer"
   ]
  },
  {
   "cell_type": "code",
   "execution_count": null,
   "metadata": {},
   "outputs": [],
   "source": [
    "# Might take awhile...\n",
    "bow_transformer = CountVectorizer(analyzer=text_process).fit(df_narative['Consumer complaint narrative'])\n",
    "\n",
    "# Print total number of vocab words\n",
    "print(len(bow_transformer.vocabulary_))"
   ]
  },
  {
   "cell_type": "code",
   "execution_count": null,
   "metadata": {},
   "outputs": [],
   "source": [
    "narrative0 = df_narative['Consumer complaint narrative'].head(1)\n",
    "print(narrative0)\n",
    "bow0 = bow_transformer.transform([narrative0])"
   ]
  },
  {
   "cell_type": "code",
   "execution_count": null,
   "metadata": {
    "collapsed": true
   },
   "outputs": [],
   "source": [
    "narrative_bow = bow_transformer.transform(df_narative['Consumer complaint narrative'])"
   ]
  },
  {
   "cell_type": "code",
   "execution_count": null,
   "metadata": {},
   "outputs": [],
   "source": [
    "print('Shape of Sparse Matrix: ', narrative_bow.shape)\n",
    "print('Amount of Non-Zero occurences: ', narrative_bow.nnz)"
   ]
  },
  {
   "cell_type": "code",
   "execution_count": null,
   "metadata": {},
   "outputs": [],
   "source": [
    "#transform text to TFIDF format\n",
    "\n",
    "from sklearn.feature_extraction.text import TfidfTransformer\n",
    "\n",
    "tfidf_transformer = TfidfTransformer().fit(narrative_bow)\n",
    "\n",
    "tfidf0 = tfidf_transformer.transform(bow0)\n",
    "\n",
    "narrative_tfidf = tfidf_transformer.transform(narrative_bow)\n",
    "print(narrative_tfidf.shape)"
   ]
  },
  {
   "cell_type": "code",
   "execution_count": null,
   "metadata": {
    "collapsed": true
   },
   "outputs": [],
   "source": [
    "#nbm = MultinomialNB().fit(narrative_tfidf, df_narative['Consumer disputed?'])\n",
    "#print('predicted:', nbm.predict(tfidf0)[0])\n",
    "#print('expected:',df_narative['Consumer disputed?'].head(1))"
   ]
  },
  {
   "cell_type": "code",
   "execution_count": null,
   "metadata": {
    "collapsed": true,
    "scrolled": true
   },
   "outputs": [],
   "source": [
    "#print('predicted:', nbm.predict(tfidf0)[0])\n",
    "#print('expected:',df_narative['Consumer disputed?'].head(1))"
   ]
  },
  {
   "cell_type": "code",
   "execution_count": null,
   "metadata": {
    "collapsed": true
   },
   "outputs": [],
   "source": [
    "#random under sampling data and train-test split\n",
    "from sklearn.model_selection import train_test_split\n",
    "\n",
    "rus = RandomUnderSampler(random_state=41)\n",
    "X, y = rus.fit_sample(narrative_tfidf, df_narative['Consumer disputed?'])\n",
    "\n",
    "msg_train, msg_test, label_train, label_test = train_test_split(X, y , test_size=0.2)\n",
    "\n",
    "#print(len(msg_train), len(msg_test), len(msg_train) + len(msg_test))"
   ]
  },
  {
   "cell_type": "code",
   "execution_count": null,
   "metadata": {
    "collapsed": true
   },
   "outputs": [],
   "source": [
    "from sklearn.pipeline import Pipeline\n",
    "\n",
    "pipeline = Pipeline([\n",
    "    ('classifier', MultinomialNB()),  # train on TF-IDF vectors w/ Naive Bayes classifier\n",
    "])"
   ]
  },
  {
   "cell_type": "code",
   "execution_count": null,
   "metadata": {},
   "outputs": [],
   "source": [
    "pipeline.fit(msg_train,label_train)"
   ]
  },
  {
   "cell_type": "code",
   "execution_count": null,
   "metadata": {
    "collapsed": true
   },
   "outputs": [],
   "source": [
    "predictions = pipeline.predict(msg_test)"
   ]
  },
  {
   "cell_type": "code",
   "execution_count": null,
   "metadata": {},
   "outputs": [],
   "source": [
    "scores_rf_test = cross_val_score(pipeline, X_rus_test, y_rus_test, cv=5)\n",
    "print('Cross Validation Accuracy Scores - Test Set: {:.5f}(+/- {:.2f})'.format(scores_rf_test.mean(), \n",
    "                                                                                 scores_rf_test.std()*2))\n",
    "\n",
    "from sklearn.metrics import classification_report\n",
    "print('Confusion matrix on the data:')\n",
    "print(confusion_matrix(label_test, predictions))\n",
    "print('Classification on the data:')\n",
    "print (classification_report(label_test, predictions))\n"
   ]
  },
  {
   "cell_type": "code",
   "execution_count": null,
   "metadata": {
    "collapsed": true
   },
   "outputs": [],
   "source": []
  }
 ],
 "metadata": {
  "kernelspec": {
   "display_name": "Python 3",
   "language": "python",
   "name": "python3"
  }
 },
 "nbformat": 4,
 "nbformat_minor": 2
}
