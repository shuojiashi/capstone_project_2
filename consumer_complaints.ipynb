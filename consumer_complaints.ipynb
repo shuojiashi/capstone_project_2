{
 "cells": [
  {
   "cell_type": "code",
   "execution_count": 1,
   "metadata": {
    "collapsed": true
   },
   "outputs": [],
   "source": [
    "# import important stuff\n",
    "import numpy as np\n",
    "import pandas as pd"
   ]
  },
  {
   "cell_type": "code",
   "execution_count": 2,
   "metadata": {
    "collapsed": true
   },
   "outputs": [],
   "source": [
    "# import visulization modules\n",
    "import matplotlib.pyplot as plt\n",
    "import seaborn as sns\n",
    "sns.set_style('whitegrid')\n",
    "sns.set_context(\"talk\")\n",
    "%matplotlib inline"
   ]
  },
  {
   "cell_type": "code",
   "execution_count": 3,
   "metadata": {
    "collapsed": true
   },
   "outputs": [],
   "source": [
    "# import sklearn modules\n",
    "from sklearn.metrics import mean_squared_error\n",
    "from sklearn.model_selection import train_test_split\n",
    "from sklearn.model_selection import cross_val_score\n",
    "from sklearn.model_selection import GridSearchCV\n",
    "from sklearn.ensemble import RandomForestClassifier\n",
    "from sklearn.ensemble import AdaBoostClassifier\n",
    "from sklearn.linear_model import LogisticRegression\n",
    "from sklearn.neighbors import KNeighborsClassifier\n",
    "from sklearn.metrics import classification_report\n",
    "from sklearn.metrics import confusion_matrix\n",
    "from sklearn.metrics import roc_curve\n",
    "from imblearn.under_sampling import RandomUnderSampler\n",
    "from sklearn.naive_bayes import GaussianNB\n",
    "from sklearn.tree import DecisionTreeClassifier"
   ]
  },
  {
   "cell_type": "code",
   "execution_count": 4,
   "metadata": {
    "collapsed": true
   },
   "outputs": [],
   "source": [
    "# import the data from csv file with a series of NAN values \n",
    "df= pd.read_csv('Consumer_Complaints_sample.csv' )"
   ]
  },
  {
   "cell_type": "code",
   "execution_count": 5,
   "metadata": {},
   "outputs": [
    {
     "data": {
      "text/html": [
       "<div>\n",
       "<style>\n",
       "    .dataframe thead tr:only-child th {\n",
       "        text-align: right;\n",
       "    }\n",
       "\n",
       "    .dataframe thead th {\n",
       "        text-align: left;\n",
       "    }\n",
       "\n",
       "    .dataframe tbody tr th {\n",
       "        vertical-align: top;\n",
       "    }\n",
       "</style>\n",
       "<table border=\"1\" class=\"dataframe\">\n",
       "  <thead>\n",
       "    <tr style=\"text-align: right;\">\n",
       "      <th></th>\n",
       "      <th>Unnamed: 0</th>\n",
       "      <th>Date received</th>\n",
       "      <th>Product</th>\n",
       "      <th>Sub-product</th>\n",
       "      <th>Issue</th>\n",
       "      <th>Sub-issue</th>\n",
       "      <th>Consumer complaint narrative</th>\n",
       "      <th>Company public response</th>\n",
       "      <th>Company</th>\n",
       "      <th>State</th>\n",
       "      <th>ZIP code</th>\n",
       "      <th>Tags</th>\n",
       "      <th>Consumer consent provided?</th>\n",
       "      <th>Submitted via</th>\n",
       "      <th>Date sent to company</th>\n",
       "      <th>Company response to consumer</th>\n",
       "      <th>Timely response?</th>\n",
       "      <th>Consumer disputed?</th>\n",
       "      <th>Complaint ID</th>\n",
       "    </tr>\n",
       "  </thead>\n",
       "  <tbody>\n",
       "    <tr>\n",
       "      <th>0</th>\n",
       "      <td>358563</td>\n",
       "      <td>03/20/2015</td>\n",
       "      <td>Bank account or service</td>\n",
       "      <td>Checking account</td>\n",
       "      <td>Account opening, closing, or management</td>\n",
       "      <td>NaN</td>\n",
       "      <td>NaN</td>\n",
       "      <td>NaN</td>\n",
       "      <td>PNC Bank N.A.</td>\n",
       "      <td>AL</td>\n",
       "      <td>35080</td>\n",
       "      <td>Older American</td>\n",
       "      <td>Consent not provided</td>\n",
       "      <td>Web</td>\n",
       "      <td>03/20/2015</td>\n",
       "      <td>Closed with explanation</td>\n",
       "      <td>Yes</td>\n",
       "      <td>Yes</td>\n",
       "      <td>1292440</td>\n",
       "    </tr>\n",
       "    <tr>\n",
       "      <th>1</th>\n",
       "      <td>559788</td>\n",
       "      <td>02/18/2014</td>\n",
       "      <td>Mortgage</td>\n",
       "      <td>Conventional fixed mortgage</td>\n",
       "      <td>Loan modification,collection,foreclosure</td>\n",
       "      <td>NaN</td>\n",
       "      <td>NaN</td>\n",
       "      <td>NaN</td>\n",
       "      <td>PNC Bank N.A.</td>\n",
       "      <td>NJ</td>\n",
       "      <td>07719</td>\n",
       "      <td>NaN</td>\n",
       "      <td>NaN</td>\n",
       "      <td>Web</td>\n",
       "      <td>02/26/2014</td>\n",
       "      <td>Closed with explanation</td>\n",
       "      <td>Yes</td>\n",
       "      <td>No</td>\n",
       "      <td>718324</td>\n",
       "    </tr>\n",
       "    <tr>\n",
       "      <th>2</th>\n",
       "      <td>290729</td>\n",
       "      <td>09/09/2016</td>\n",
       "      <td>Consumer Loan</td>\n",
       "      <td>Installment loan</td>\n",
       "      <td>Taking out the loan or lease</td>\n",
       "      <td>NaN</td>\n",
       "      <td>I had my credit score ran 2 times by Spring Le...</td>\n",
       "      <td>NaN</td>\n",
       "      <td>ONEMAIN FINANCIAL HOLDINGS, LLC.</td>\n",
       "      <td>TN</td>\n",
       "      <td>378XX</td>\n",
       "      <td>NaN</td>\n",
       "      <td>Consent provided</td>\n",
       "      <td>Web</td>\n",
       "      <td>09/13/2016</td>\n",
       "      <td>Closed with explanation</td>\n",
       "      <td>Yes</td>\n",
       "      <td>No</td>\n",
       "      <td>2102639</td>\n",
       "    </tr>\n",
       "    <tr>\n",
       "      <th>3</th>\n",
       "      <td>382875</td>\n",
       "      <td>04/23/2016</td>\n",
       "      <td>Debt collection</td>\n",
       "      <td>I do not know</td>\n",
       "      <td>Communication tactics</td>\n",
       "      <td>Frequent or repeated calls</td>\n",
       "      <td>NaN</td>\n",
       "      <td>Company believes it acted appropriately as aut...</td>\n",
       "      <td>ERC</td>\n",
       "      <td>TN</td>\n",
       "      <td>38478</td>\n",
       "      <td>NaN</td>\n",
       "      <td>Consent not provided</td>\n",
       "      <td>Web</td>\n",
       "      <td>04/27/2016</td>\n",
       "      <td>Closed with non-monetary relief</td>\n",
       "      <td>Yes</td>\n",
       "      <td>Yes</td>\n",
       "      <td>1891827</td>\n",
       "    </tr>\n",
       "    <tr>\n",
       "      <th>4</th>\n",
       "      <td>656826</td>\n",
       "      <td>08/04/2016</td>\n",
       "      <td>Credit reporting</td>\n",
       "      <td>NaN</td>\n",
       "      <td>Incorrect information on credit report</td>\n",
       "      <td>Account status</td>\n",
       "      <td>NaN</td>\n",
       "      <td>Company has responded to the consumer and the ...</td>\n",
       "      <td>Experian Information Solutions Inc.</td>\n",
       "      <td>GA</td>\n",
       "      <td>30041</td>\n",
       "      <td>NaN</td>\n",
       "      <td>Consent not provided</td>\n",
       "      <td>Web</td>\n",
       "      <td>08/04/2016</td>\n",
       "      <td>Closed with non-monetary relief</td>\n",
       "      <td>Yes</td>\n",
       "      <td>No</td>\n",
       "      <td>2044411</td>\n",
       "    </tr>\n",
       "  </tbody>\n",
       "</table>\n",
       "</div>"
      ],
      "text/plain": [
       "   Unnamed: 0 Date received                  Product  \\\n",
       "0      358563    03/20/2015  Bank account or service   \n",
       "1      559788    02/18/2014                 Mortgage   \n",
       "2      290729    09/09/2016            Consumer Loan   \n",
       "3      382875    04/23/2016          Debt collection   \n",
       "4      656826    08/04/2016         Credit reporting   \n",
       "\n",
       "                   Sub-product                                     Issue  \\\n",
       "0             Checking account   Account opening, closing, or management   \n",
       "1  Conventional fixed mortgage  Loan modification,collection,foreclosure   \n",
       "2             Installment loan              Taking out the loan or lease   \n",
       "3                I do not know                     Communication tactics   \n",
       "4                          NaN    Incorrect information on credit report   \n",
       "\n",
       "                    Sub-issue  \\\n",
       "0                         NaN   \n",
       "1                         NaN   \n",
       "2                         NaN   \n",
       "3  Frequent or repeated calls   \n",
       "4              Account status   \n",
       "\n",
       "                        Consumer complaint narrative  \\\n",
       "0                                                NaN   \n",
       "1                                                NaN   \n",
       "2  I had my credit score ran 2 times by Spring Le...   \n",
       "3                                                NaN   \n",
       "4                                                NaN   \n",
       "\n",
       "                             Company public response  \\\n",
       "0                                                NaN   \n",
       "1                                                NaN   \n",
       "2                                                NaN   \n",
       "3  Company believes it acted appropriately as aut...   \n",
       "4  Company has responded to the consumer and the ...   \n",
       "\n",
       "                               Company State ZIP code            Tags  \\\n",
       "0                        PNC Bank N.A.    AL    35080  Older American   \n",
       "1                        PNC Bank N.A.    NJ    07719             NaN   \n",
       "2     ONEMAIN FINANCIAL HOLDINGS, LLC.    TN    378XX             NaN   \n",
       "3                                  ERC    TN    38478             NaN   \n",
       "4  Experian Information Solutions Inc.    GA    30041             NaN   \n",
       "\n",
       "  Consumer consent provided? Submitted via Date sent to company  \\\n",
       "0       Consent not provided           Web           03/20/2015   \n",
       "1                        NaN           Web           02/26/2014   \n",
       "2           Consent provided           Web           09/13/2016   \n",
       "3       Consent not provided           Web           04/27/2016   \n",
       "4       Consent not provided           Web           08/04/2016   \n",
       "\n",
       "      Company response to consumer Timely response? Consumer disputed?  \\\n",
       "0          Closed with explanation              Yes                Yes   \n",
       "1          Closed with explanation              Yes                 No   \n",
       "2          Closed with explanation              Yes                 No   \n",
       "3  Closed with non-monetary relief              Yes                Yes   \n",
       "4  Closed with non-monetary relief              Yes                 No   \n",
       "\n",
       "   Complaint ID  \n",
       "0       1292440  \n",
       "1        718324  \n",
       "2       2102639  \n",
       "3       1891827  \n",
       "4       2044411  "
      ]
     },
     "execution_count": 5,
     "metadata": {},
     "output_type": "execute_result"
    }
   ],
   "source": [
    "# Overlook of the data set\n",
    "df.head()"
   ]
  },
  {
   "cell_type": "code",
   "execution_count": 6,
   "metadata": {
    "collapsed": true
   },
   "outputs": [],
   "source": [
    "# drop the rows where 'consumer disputed?' is missing\n",
    "df.dropna(axis=0, subset=['Consumer disputed?'], inplace=True)"
   ]
  },
  {
   "cell_type": "code",
   "execution_count": 7,
   "metadata": {},
   "outputs": [
    {
     "data": {
      "text/plain": [
       "<matplotlib.axes._subplots.AxesSubplot at 0x11b453470>"
      ]
     },
     "execution_count": 7,
     "metadata": {},
     "output_type": "execute_result"
    },
    {
     "data": {
      "image/png": "[encoded data removed]",
      "text/plain": [
       "<matplotlib.figure.Figure at 0x11a885898>"
      ]
     },
     "metadata": {},
     "output_type": "display_data"
    }
   ],
   "source": [
    "#check how many complaints were disputed. \n",
    "sns.countplot(df['Consumer disputed?'])"
   ]
  },
  {
   "cell_type": "code",
   "execution_count": 8,
   "metadata": {
    "collapsed": true
   },
   "outputs": [],
   "source": [
    "top_issue = list(pd.DataFrame(df['Issue'].value_counts()[0:30]).index)\n",
    "\n",
    "df_top_issue = df[df['Issue'].isin(top_issue)]"
   ]
  },
  {
   "cell_type": "code",
   "execution_count": 9,
   "metadata": {},
   "outputs": [
    {
     "data": {
      "text/plain": [
       "Loan modification,collection,foreclosure    11305\n",
       "Incorrect information on credit report      10198\n",
       "Loan servicing, payments, escrow account     7744\n",
       "Cont'd attempts collect debt not owed        6169\n",
       "Account opening, closing, or management      3756\n",
       "Name: Issue, dtype: int64"
      ]
     },
     "execution_count": 9,
     "metadata": {},
     "output_type": "execute_result"
    }
   ],
   "source": [
    "df_top_issue['Issue'].value_counts().head(5)"
   ]
  },
  {
   "cell_type": "code",
   "execution_count": 10,
   "metadata": {
    "collapsed": true
   },
   "outputs": [],
   "source": [
    "top_company = list(pd.DataFrame(df_top_issue.Company.value_counts()[0:30]).index)\n",
    "df_top_issue_comp = df_top_issue[df_top_issue['Company'].isin(top_company)]"
   ]
  },
  {
   "cell_type": "code",
   "execution_count": 11,
   "metadata": {},
   "outputs": [
    {
     "data": {
      "text/plain": [
       "BANK OF AMERICA, NATIONAL ASSOCIATION     6165\n",
       "WELLS FARGO & COMPANY                     4891\n",
       "EQUIFAX, INC.                             4786\n",
       "Experian Information Solutions Inc.       4534\n",
       "TRANSUNION INTERMEDIATE HOLDINGS, INC.    3984\n",
       "Name: Company, dtype: int64"
      ]
     },
     "execution_count": 11,
     "metadata": {},
     "output_type": "execute_result"
    }
   ],
   "source": [
    "df_top_issue_comp['Company'].value_counts().head(5)"
   ]
  },
  {
   "cell_type": "code",
   "execution_count": 12,
   "metadata": {
    "collapsed": true
   },
   "outputs": [],
   "source": [
    "# choose categoric columns that we are using for initial test\n",
    "categoric = df_top_issue_comp[['Product','Issue', 'Company', 'Consumer consent provided?', 'Submitted via', 'Timely response?', 'Company response to consumer']]\n",
    "target_d = df_top_issue_comp['Consumer disputed?']"
   ]
  },
  {
   "cell_type": "code",
   "execution_count": 13,
   "metadata": {
    "collapsed": true
   },
   "outputs": [],
   "source": [
    "df_dummy_cate = pd.get_dummies(data=categoric, drop_first=True)\n",
    "target_dummy = pd.get_dummies(data=target_d, drop_first=True)\n",
    "df_dummy = df_dummy_cate.join(target_dummy)"
   ]
  },
  {
   "cell_type": "code",
   "execution_count": 14,
   "metadata": {},
   "outputs": [],
   "source": [
    "#df_dummy.corr()['Yes']"
   ]
  },
  {
   "cell_type": "code",
   "execution_count": 15,
   "metadata": {},
   "outputs": [
    {
     "name": "stdout",
     "output_type": "stream",
     "text": [
      "Consumer disputed?     Company response to consumer        No       Yes\n",
      "0                                            Closed  0.761750  0.238250\n",
      "1                           Closed with explanation  0.786985  0.213015\n",
      "2                       Closed with monetary relief  0.900439  0.099561\n",
      "3                   Closed with non-monetary relief  0.879846  0.120154\n",
      "4                                Closed with relief  0.846847  0.153153\n",
      "5                             Closed without relief  0.728789  0.271211\n",
      "6                                 Untimely response  1.000000       NaN\n"
     ]
    },
    {
     "data": {
      "text/plain": [
       "<matplotlib.text.Text at 0x11b453e10>"
      ]
     },
     "execution_count": 15,
     "metadata": {},
     "output_type": "execute_result"
    },
    {
     "data": {
      "image/png": "[encoded data removed]",
      "text/plain": [
       "<matplotlib.figure.Figure at 0x1182fc2e8>"
      ]
     },
     "metadata": {},
     "output_type": "display_data"
    }
   ],
   "source": [
    "\n",
    "#check how many complaints were disputed for each company response. \n",
    "print(df_top_issue_comp.groupby('Company response to consumer')['Consumer disputed?'].value_counts(normalize=True).unstack().reset_index())\n",
    "df_response = df_top_issue_comp.groupby('Company response to consumer')['Consumer disputed?'].value_counts(normalize=True).unstack().reset_index()\n",
    "df_response.dropna(subset=['Yes'], inplace=True)\n",
    "sns.barplot(y='Company response to consumer', x='Yes', data = df_response)\n",
    "plt.xlabel('Complaint disputed')"
   ]
  },
  {
   "cell_type": "code",
   "execution_count": 16,
   "metadata": {
    "collapsed": true
   },
   "outputs": [],
   "source": [
    "df['narative_bool'] = pd.isnull(df['Consumer complaint narrative'])"
   ]
  },
  {
   "cell_type": "code",
   "execution_count": 17,
   "metadata": {
    "collapsed": true
   },
   "outputs": [],
   "source": [
    "df['narative_int'] = df['narative_bool'].astype(int)"
   ]
  },
  {
   "cell_type": "code",
   "execution_count": 18,
   "metadata": {
    "scrolled": true
   },
   "outputs": [
    {
     "data": {
      "text/html": [
       "<div>\n",
       "<style>\n",
       "    .dataframe thead tr:only-child th {\n",
       "        text-align: right;\n",
       "    }\n",
       "\n",
       "    .dataframe thead th {\n",
       "        text-align: left;\n",
       "    }\n",
       "\n",
       "    .dataframe tbody tr th {\n",
       "        vertical-align: top;\n",
       "    }\n",
       "</style>\n",
       "<table border=\"1\" class=\"dataframe\">\n",
       "  <thead>\n",
       "    <tr style=\"text-align: right;\">\n",
       "      <th>narative_bool</th>\n",
       "      <th>False</th>\n",
       "      <th>True</th>\n",
       "    </tr>\n",
       "    <tr>\n",
       "      <th>Consumer disputed?</th>\n",
       "      <th></th>\n",
       "      <th></th>\n",
       "    </tr>\n",
       "  </thead>\n",
       "  <tbody>\n",
       "    <tr>\n",
       "      <th>No</th>\n",
       "      <td>0.205160</td>\n",
       "      <td>0.794840</td>\n",
       "    </tr>\n",
       "    <tr>\n",
       "      <th>Yes</th>\n",
       "      <td>0.243906</td>\n",
       "      <td>0.756094</td>\n",
       "    </tr>\n",
       "  </tbody>\n",
       "</table>\n",
       "</div>"
      ],
      "text/plain": [
       "narative_bool          False     True \n",
       "Consumer disputed?                    \n",
       "No                  0.205160  0.794840\n",
       "Yes                 0.243906  0.756094"
      ]
     },
     "execution_count": 18,
     "metadata": {},
     "output_type": "execute_result"
    }
   ],
   "source": [
    "# did narrative or not have an effect on dispute?\n",
    "df.groupby('Consumer disputed?')['narative_bool'].value_counts(normalize=True).unstack()"
   ]
  },
  {
   "cell_type": "code",
   "execution_count": 19,
   "metadata": {
    "scrolled": true
   },
   "outputs": [
    {
     "data": {
      "text/plain": [
       "(array([ 0,  1,  2,  3,  4,  5,  6,  7,  8,  9, 10, 11]),\n",
       " <a list of 12 Text xticklabel objects>)"
      ]
     },
     "execution_count": 19,
     "metadata": {},
     "output_type": "execute_result"
    },
    {
     "data": {
      "image/png": "[encoded data removed]",
      "text/plain": [
       "<matplotlib.figure.Figure at 0x1182fc5f8>"
      ]
     },
     "metadata": {},
     "output_type": "display_data"
    }
   ],
   "source": [
    "#how many complaints for each financial product?\n",
    "sns.countplot(df['Product'], color='blue')\n",
    "plt.xticks(rotation=40, ha=\"right\")"
   ]
  },
  {
   "cell_type": "code",
   "execution_count": 20,
   "metadata": {
    "scrolled": true
   },
   "outputs": [
    {
     "data": {
      "text/plain": [
       "<matplotlib.text.Text at 0x11cb02d68>"
      ]
     },
     "execution_count": 20,
     "metadata": {},
     "output_type": "execute_result"
    },
    {
     "data": {
      "image/png": "[encoded data removed]",
      "text/plain": [
       "<matplotlib.figure.Figure at 0x118309c18>"
      ]
     },
     "metadata": {},
     "output_type": "display_data"
    }
   ],
   "source": [
    "# any product particularly easy to be disputed?\n",
    "df_product = df.groupby('Product')['Consumer disputed?'].value_counts(normalize=True).unstack().reset_index()[:-1]\n",
    "sns.barplot(y='Product', x='Yes', data = df_product.sort_values('Yes'), palette='Blues')\n",
    "plt.xlabel('Complaint disputed')"
   ]
  },
  {
   "cell_type": "code",
   "execution_count": 21,
   "metadata": {
    "scrolled": false
   },
   "outputs": [
    {
     "data": {
      "text/plain": [
       "<matplotlib.text.Text at 0x11ce9bf98>"
      ]
     },
     "execution_count": 21,
     "metadata": {},
     "output_type": "execute_result"
    },
    {
     "data": {
      "image/png": "[encoded data removed]",
      "text/plain": [
       "<matplotlib.figure.Figure at 0x11ce91550>"
      ]
     },
     "metadata": {},
     "output_type": "display_data"
    }
   ],
   "source": [
    "#most appeared companies VS disputed?\n",
    "df_comp = df_top_issue_comp.groupby('Company')['Consumer disputed?'].value_counts(normalize=True).unstack().reset_index()\n",
    "sns.barplot(y='Company', x='Yes', data = df_comp.sort_values('Yes'))\n",
    "plt.xlabel('Complaint disputed')"
   ]
  },
  {
   "cell_type": "code",
   "execution_count": 31,
   "metadata": {},
   "outputs": [
    {
     "name": "stderr",
     "output_type": "stream",
     "text": [
      "/anaconda/lib/python3.6/site-packages/ipykernel_launcher.py:2: SettingWithCopyWarning: \n",
      "A value is trying to be set on a copy of a slice from a DataFrame.\n",
      "Try using .loc[row_indexer,col_indexer] = value instead\n",
      "\n",
      "See the caveats in the documentation: http://pandas.pydata.org/pandas-docs/stable/indexing.html#indexing-view-versus-copy\n",
      "  \n"
     ]
    },
    {
     "data": {
      "text/plain": [
       "<matplotlib.axes._subplots.AxesSubplot at 0x12382c898>"
      ]
     },
     "execution_count": 31,
     "metadata": {},
     "output_type": "execute_result"
    },
    {
     "data": {
      "image/png": "[encoded data removed]",
      "text/plain": [
       "<matplotlib.figure.Figure at 0x11d0b6cf8>"
      ]
     },
     "metadata": {},
     "output_type": "display_data"
    }
   ],
   "source": [
    "df_narative = df.dropna(axis=0, subset=['Consumer complaint narrative'])\n",
    "df_narative['NarativeLength'] = [len(nara) for nara in df_narative['Consumer complaint narrative']]\n",
    "# length of the narrative VS consumer disputed?\n",
    "sns.barplot(data=df_narative, y='NarativeLength', x='Consumer disputed?')"
   ]
  },
  {
   "cell_type": "code",
   "execution_count": 32,
   "metadata": {},
   "outputs": [
    {
     "name": "stderr",
     "output_type": "stream",
     "text": [
      "/anaconda/lib/python3.6/site-packages/ipykernel_launcher.py:11: SettingWithCopyWarning: \n",
      "A value is trying to be set on a copy of a slice from a DataFrame.\n",
      "Try using .loc[row_indexer,col_indexer] = value instead\n",
      "\n",
      "See the caveats in the documentation: http://pandas.pydata.org/pandas-docs/stable/indexing.html#indexing-view-versus-copy\n",
      "  # This is added back by InteractiveShellApp.init_path()\n"
     ]
    }
   ],
   "source": [
    "\n",
    "df_nara_bool = df_top_issue_comp['Consumer complaint narrative'].fillna(0)\n",
    "\n",
    "df_nara_bool2=[]\n",
    "for nara in df_nara_bool:\n",
    "    if nara is not 0:\n",
    "        df_nara_bool2.append(1)\n",
    "    else: \n",
    "        df_nara_bool2.append(0)\n",
    "        \n",
    "df_top_issue_comp['Narrative_bool'] = df_nara_bool2"
   ]
  },
  {
   "cell_type": "code",
   "execution_count": 33,
   "metadata": {},
   "outputs": [],
   "source": [
    "df_top_issue_comp_short = df_top_issue_comp.drop(['Unnamed: 0', 'Sub-issue', 'Company public response', 'Consumer consent provided?', 'State', 'ZIP code', 'Date sent to company', 'Date received', 'Consumer complaint narrative','Complaint ID', 'Tags'],axis=1)"
   ]
  },
  {
   "cell_type": "code",
   "execution_count": 34,
   "metadata": {},
   "outputs": [
    {
     "name": "stdout",
     "output_type": "stream",
     "text": [
      "<class 'pandas.core.frame.DataFrame'>\n",
      "Int64Index: 48386 entries, 0 to 104587\n",
      "Data columns (total 9 columns):\n",
      "Product                         48386 non-null object\n",
      "Sub-product                     30844 non-null object\n",
      "Issue                           48386 non-null object\n",
      "Company                         48386 non-null object\n",
      "Submitted via                   48386 non-null object\n",
      "Company response to consumer    48386 non-null object\n",
      "Timely response?                48386 non-null object\n",
      "Consumer disputed?              48386 non-null object\n",
      "Narrative_bool                  48386 non-null int64\n",
      "dtypes: int64(1), object(8)\n",
      "memory usage: 4.9+ MB\n"
     ]
    }
   ],
   "source": [
    "df_top_issue_comp_short.info()"
   ]
  },
  {
   "cell_type": "code",
   "execution_count": 35,
   "metadata": {},
   "outputs": [],
   "source": [
    "df_dummies = pd.get_dummies(data=df_top_issue_comp_short.drop(['Consumer disputed?','Narrative_bool'], axis=1), drop_first=True)"
   ]
  },
  {
   "cell_type": "code",
   "execution_count": 36,
   "metadata": {},
   "outputs": [
    {
     "name": "stdout",
     "output_type": "stream",
     "text": [
      "<class 'pandas.core.frame.DataFrame'>\n",
      "Int64Index: 48386 entries, 0 to 104587\n",
      "Columns: 102 entries, Product_Consumer Loan to Timely response?_Yes\n",
      "dtypes: uint8(102)\n",
      "memory usage: 6.3 MB\n"
     ]
    }
   ],
   "source": [
    "df_dummies.info()"
   ]
  },
  {
   "cell_type": "code",
   "execution_count": 37,
   "metadata": {},
   "outputs": [
    {
     "name": "stdout",
     "output_type": "stream",
     "text": [
      "Raw Training Set Percent Yes: 19.8%\n",
      "Resampled Training Set Percent Yes: 50.0%\n"
     ]
    }
   ],
   "source": [
    "# Identify variables\n",
    "X = df_dummies.join(df_top_issue_comp_short['Narrative_bool'])\n",
    "target_map = {'Yes': 1, 'No':0}\n",
    "y = df_top_issue_comp['Consumer disputed?'].map(target_map)\n",
    "\n",
    "# Splitting into train and test sets\n",
    "X_train, X_test, y_train, y_test = train_test_split(X, y, test_size=0.7, random_state=41)\n",
    "\n",
    "\n",
    "rus = RandomUnderSampler(random_state=41)\n",
    "X_rus, y_rus = rus.fit_sample(X=X_train, y=y_train)\n",
    "X_rus_test, y_rus_test = rus.fit_sample(X=X_test, y=y_test)\n",
    "\n",
    "print('Raw Training Set Percent Yes: {:.1f}%'.format(\n",
    "    len(y_train[y_train == 1])/len(y_train)*100))\n",
    "print('Resampled Training Set Percent Yes: {}%'.format(\n",
    "    len(y_rus[y_rus == 1])/len(y_rus)*100))"
   ]
  },
  {
   "cell_type": "code",
   "execution_count": 38,
   "metadata": {},
   "outputs": [
    {
     "name": "stdout",
     "output_type": "stream",
     "text": [
      "Best Score: 0.580201809325\n",
      "Best Parameters: {'max_depth': 5, 'max_features': 75, 'n_estimators': 100}\n"
     ]
    }
   ],
   "source": [
    "#Random forest classifier parameter optimization:\n",
    "\n",
    "rf = RandomForestClassifier()\n",
    "param_grid = {\"n_estimators\": [100, 200, 300],\n",
    "              \"max_features\": [75, 100],\n",
    "              \"max_depth\": [3, 5, 10]\n",
    "              }\n",
    "\n",
    "grid_rf = GridSearchCV(rf, param_grid=param_grid, cv=5)\n",
    "grid_rf.fit(X_rus, y_rus)\n",
    "\n",
    "# Printing the best score from the model\n",
    "print('Best Score:', grid_rf.best_score_)\n",
    "\n",
    "# Saving and printing the best parameters from the model\n",
    "best_params = grid_rf.best_params_\n",
    "print('Best Parameters:', best_params)"
   ]
  },
  {
   "cell_type": "code",
   "execution_count": 39,
   "metadata": {},
   "outputs": [
    {
     "name": "stdout",
     "output_type": "stream",
     "text": [
      "Cross Validation Accuracy Scores - Training Set: 0.58003(+/- 0.02)\n",
      "Cross Validation Accuracy Scores - Test Set: 0.58997(+/- 0.01)\n",
      "Confusion matrix on the test data:\n",
      "[[3495 3024]\n",
      " [2430 4089]]\n",
      "Classification report on the test data:\n",
      "             precision    recall  f1-score   support\n",
      "\n",
      "          0       0.59      0.54      0.56      6519\n",
      "          1       0.57      0.63      0.60      6519\n",
      "\n",
      "avg / total       0.58      0.58      0.58     13038\n",
      "\n"
     ]
    }
   ],
   "source": [
    "#initiate a instance for classifier\n",
    "rf = RandomForestClassifier(**best_params)\n",
    "\n",
    "# Fit the classifier to the training data\n",
    "rf.fit(X_rus, y_rus)\n",
    "\n",
    "# Predict the labels of the test data: y_pred\n",
    "y_pred = rf.predict(X_rus_test)\n",
    "\n",
    "scores_rf_train = cross_val_score(rf, X_rus, y_rus, cv=5)\n",
    "print('Cross Validation Accuracy Scores - Training Set: {:.5f}(+/- {:.2f})'.format(scores_rf_train.mean(), \n",
    "                                                                                 scores_rf_train.std()*2))\n",
    "scores_rf_test = cross_val_score(rf, X_rus_test, y_rus_test, cv=5)\n",
    "print('Cross Validation Accuracy Scores - Test Set: {:.5f}(+/- {:.2f})'.format(scores_rf_test.mean(), \n",
    "                                                                                 scores_rf_test.std()*2))\n",
    "\n",
    "# Generate the confusion matrix and classification report\n",
    "print('Confusion matrix on the test data:')\n",
    "print(confusion_matrix(y_rus_test, y_pred))\n",
    "print('Classification report on the test data:')\n",
    "print(classification_report(y_rus_test, y_pred))"
   ]
  },
  {
   "cell_type": "code",
   "execution_count": 40,
   "metadata": {},
   "outputs": [
    {
     "data": {
      "text/plain": [
       "48386"
      ]
     },
     "execution_count": 40,
     "metadata": {},
     "output_type": "execute_result"
    }
   ],
   "source": [
    "len(X)"
   ]
  },
  {
   "cell_type": "code",
   "execution_count": 41,
   "metadata": {},
   "outputs": [
    {
     "name": "stderr",
     "output_type": "stream",
     "text": [
      "/anaconda/lib/python3.6/site-packages/ipykernel_launcher.py:2: SettingWithCopyWarning: \n",
      "A value is trying to be set on a copy of a slice from a DataFrame.\n",
      "Try using .loc[row_indexer,col_indexer] = value instead\n",
      "\n",
      "See the caveats in the documentation: http://pandas.pydata.org/pandas-docs/stable/indexing.html#indexing-view-versus-copy\n",
      "  \n"
     ]
    },
    {
     "data": {
      "text/plain": [
       "<matplotlib.axes._subplots.AxesSubplot at 0x123bbaa58>"
      ]
     },
     "execution_count": 41,
     "metadata": {},
     "output_type": "execute_result"
    },
    {
     "data": {
      "image/png": "[encoded data removed]",
      "text/plain": [
       "<matplotlib.figure.Figure at 0x114b7e240>"
      ]
     },
     "metadata": {},
     "output_type": "display_data"
    }
   ],
   "source": [
    "df_narative = df.dropna(axis=0, subset=['Consumer complaint narrative'])\n",
    "df_narative['NarativeLength'] = [len(nara) for nara in df_narative['Consumer complaint narrative']]\n",
    "# length of the narrative VS consumer disputed?\n",
    "sns.barplot(data=df_narative, y='NarativeLength', x='Consumer disputed?')"
   ]
  },
  {
   "cell_type": "code",
   "execution_count": 42,
   "metadata": {},
   "outputs": [
    {
     "data": {
      "text/plain": [
       "array([<matplotlib.axes._subplots.AxesSubplot object at 0x11ba85080>,\n",
       "       <matplotlib.axes._subplots.AxesSubplot object at 0x1245d6e80>], dtype=object)"
      ]
     },
     "execution_count": 42,
     "metadata": {},
     "output_type": "execute_result"
    },
    {
     "data": {
      "image/png": "[encoded data removed]",
      "text/plain": [
       "<matplotlib.figure.Figure at 0x11baec0b8>"
      ]
     },
     "metadata": {},
     "output_type": "display_data"
    }
   ],
   "source": [
    "df_narative.hist(column='NarativeLength', by='Consumer disputed?', bins=50,figsize=(12,4))\n"
   ]
  },
  {
   "cell_type": "code",
   "execution_count": 43,
   "metadata": {},
   "outputs": [
    {
     "data": {
      "text/plain": [
       "<matplotlib.text.Text at 0x1253ac828>"
      ]
     },
     "execution_count": 43,
     "metadata": {},
     "output_type": "execute_result"
    },
    {
     "data": {
      "image/png": "[encoded data removed]",
      "text/plain": [
       "<matplotlib.figure.Figure at 0x12463ff60>"
      ]
     },
     "metadata": {},
     "output_type": "display_data"
    }
   ],
   "source": [
    "df_narrative_bool = df.groupby('Narrative_bool')['Consumer disputed?'].value_counts(normalize=True).unstack().reset_index()\n",
    "df_narrative_bool\n",
    "sns.barplot(x='Narrative_bool', y='Yes', data = df_narrative_bool.sort_values('Yes'))\n",
    "plt.ylabel('Complaint disputed')\n",
    "plt.xlabel('Whether Consumer Authorize Narrative')"
   ]
  },
  {
   "cell_type": "code",
   "execution_count": 44,
   "metadata": {},
   "outputs": [],
   "source": [
    "#nltk.download_shell()"
   ]
  },
  {
   "cell_type": "code",
   "execution_count": 45,
   "metadata": {},
   "outputs": [],
   "source": [
    "import string\n",
    "from nltk.corpus import stopwords\n",
    "\n",
    "\n",
    "def text_process(mess):\n",
    "    \"\"\"\n",
    "    Takes in a string of text, then performs the following:\n",
    "    1. Remove all punctuation\n",
    "    2. Remove all stopwords\n",
    "    3. Returns a list of the cleaned text\n",
    "    \"\"\"\n",
    "    # Check characters to see if they are in punctuation\n",
    "    nopunc = [char for char in mess if char not in string.punctuation]\n",
    "\n",
    "    # Join the characters again to form the string.\n",
    "    nopunc = ''.join(nopunc)\n",
    "    \n",
    "    # Now just remove any stopwords\n",
    "    return [word for word in nopunc.split() if word.lower() not in stopwords.words('english')]"
   ]
  },
  {
   "cell_type": "code",
   "execution_count": 46,
   "metadata": {},
   "outputs": [
    {
     "data": {
      "text/plain": [
       "No     12738\n",
       "Yes     3582\n",
       "Name: Consumer disputed?, dtype: int64"
      ]
     },
     "execution_count": 46,
     "metadata": {},
     "output_type": "execute_result"
    }
   ],
   "source": [
    "df_narative['Consumer disputed?'].value_counts()"
   ]
  },
  {
   "cell_type": "code",
   "execution_count": 47,
   "metadata": {},
   "outputs": [
    {
     "data": {
      "text/plain": [
       "2    [credit, score, ran, 2, times, Spring, Leaf, n...\n",
       "Name: Consumer complaint narrative, dtype: object"
      ]
     },
     "execution_count": 47,
     "metadata": {},
     "output_type": "execute_result"
    }
   ],
   "source": [
    "df_narative['Consumer complaint narrative'].head(1).apply(text_process)"
   ]
  },
  {
   "cell_type": "code",
   "execution_count": 48,
   "metadata": {
    "collapsed": true
   },
   "outputs": [],
   "source": [
    "from sklearn.feature_extraction.text import CountVectorizer"
   ]
  },
  {
   "cell_type": "code",
   "execution_count": 49,
   "metadata": {},
   "outputs": [
    {
     "name": "stdout",
     "output_type": "stream",
     "text": [
      "38204\n"
     ]
    }
   ],
   "source": [
    "# Might take awhile...\n",
    "bow_transformer = CountVectorizer(analyzer=text_process).fit(df_narative['Consumer complaint narrative'])\n",
    "\n",
    "# Print total number of vocab words\n",
    "print(len(bow_transformer.vocabulary_))"
   ]
  },
  {
   "cell_type": "code",
   "execution_count": 50,
   "metadata": {},
   "outputs": [
    {
     "name": "stdout",
     "output_type": "stream",
     "text": [
      "2    I had my credit score ran 2 times by Spring Le...\n",
      "Name: Consumer complaint narrative, dtype: object\n"
     ]
    }
   ],
   "source": [
    "narrative0 = df_narative['Consumer complaint narrative'].head(1)\n",
    "print(narrative0)\n",
    "bow0 = bow_transformer.transform([narrative0])"
   ]
  },
  {
   "cell_type": "code",
   "execution_count": 51,
   "metadata": {
    "collapsed": true
   },
   "outputs": [],
   "source": [
    "narrative_bow = bow_transformer.transform(df_narative['Consumer complaint narrative'])"
   ]
  },
  {
   "cell_type": "code",
   "execution_count": 52,
   "metadata": {},
   "outputs": [
    {
     "name": "stdout",
     "output_type": "stream",
     "text": [
      "Shape of Sparse Matrix:  (16320, 38204)\n",
      "Amount of Non-Zero occurences:  1032069\n"
     ]
    }
   ],
   "source": [
    "print('Shape of Sparse Matrix: ', narrative_bow.shape)\n",
    "print('Amount of Non-Zero occurences: ', narrative_bow.nnz)"
   ]
  },
  {
   "cell_type": "code",
   "execution_count": 53,
   "metadata": {},
   "outputs": [
    {
     "name": "stdout",
     "output_type": "stream",
     "text": [
      "(16320, 38204)\n"
     ]
    }
   ],
   "source": [
    "#transform text to TFIDF format\n",
    "\n",
    "from sklearn.feature_extraction.text import TfidfTransformer\n",
    "\n",
    "tfidf_transformer = TfidfTransformer().fit(narrative_bow)\n",
    "\n",
    "tfidf0 = tfidf_transformer.transform(bow0)\n",
    "\n",
    "narrative_tfidf = tfidf_transformer.transform(narrative_bow)\n",
    "print(narrative_tfidf.shape)"
   ]
  },
  {
   "cell_type": "code",
   "execution_count": 54,
   "metadata": {},
   "outputs": [],
   "source": [
    "#nbm = MultinomialNB().fit(narrative_tfidf, df_narative['Consumer disputed?'])\n",
    "#print('predicted:', nbm.predict(tfidf0)[0])\n",
    "#print('expected:',df_narative['Consumer disputed?'].head(1))"
   ]
  },
  {
   "cell_type": "code",
   "execution_count": 55,
   "metadata": {
    "scrolled": true
   },
   "outputs": [],
   "source": [
    "#print('predicted:', nbm.predict(tfidf0)[0])\n",
    "#print('expected:',df_narative['Consumer disputed?'].head(1))"
   ]
  },
  {
   "cell_type": "code",
   "execution_count": 56,
   "metadata": {},
   "outputs": [],
   "source": [
    "#random under sampling data and train-test split\n",
    "from sklearn.model_selection import train_test_split\n",
    "\n",
    "rus = RandomUnderSampler(random_state=41)\n",
    "X, y = rus.fit_sample(narrative_tfidf, df_narative['Consumer disputed?'])\n",
    "\n",
    "msg_train, msg_test, label_train, label_test = train_test_split(X, y , test_size=0.2)\n",
    "\n",
    "#print(len(msg_train), len(msg_test), len(msg_train) + len(msg_test))"
   ]
  },
  {
   "cell_type": "code",
   "execution_count": 57,
   "metadata": {},
   "outputs": [
    {
     "ename": "NameError",
     "evalue": "name 'MultinomialNB' is not defined",
     "output_type": "error",
     "traceback": [
      "\u001b[0;31m---------------------------------------------------------------------------\u001b[0m",
      "\u001b[0;31mNameError\u001b[0m                                 Traceback (most recent call last)",
      "\u001b[0;32m<ipython-input-57-bc42d3a78b0a>\u001b[0m in \u001b[0;36m<module>\u001b[0;34m()\u001b[0m\n\u001b[1;32m      2\u001b[0m \u001b[0;34m\u001b[0m\u001b[0m\n\u001b[1;32m      3\u001b[0m pipeline = Pipeline([\n\u001b[0;32m----> 4\u001b[0;31m     \u001b[0;34m(\u001b[0m\u001b[0;34m'classifier'\u001b[0m\u001b[0;34m,\u001b[0m \u001b[0mMultinomialNB\u001b[0m\u001b[0;34m(\u001b[0m\u001b[0;34m)\u001b[0m\u001b[0;34m)\u001b[0m\u001b[0;34m,\u001b[0m  \u001b[0;31m# train on TF-IDF vectors w/ Naive Bayes classifier\u001b[0m\u001b[0;34m\u001b[0m\u001b[0m\n\u001b[0m\u001b[1;32m      5\u001b[0m ])\n",
      "\u001b[0;31mNameError\u001b[0m: name 'MultinomialNB' is not defined"
     ]
    }
   ],
   "source": [
    "from sklearn.pipeline import Pipeline\n",
    "\n",
    "pipeline = Pipeline([\n",
    "    ('classifier', MultinomialNB()),  # train on TF-IDF vectors w/ Naive Bayes classifier\n",
    "])"
   ]
  },
  {
   "cell_type": "code",
   "execution_count": null,
   "metadata": {},
   "outputs": [],
   "source": [
    "pipeline.fit(msg_train,label_train)"
   ]
  },
  {
   "cell_type": "code",
   "execution_count": null,
   "metadata": {},
   "outputs": [],
   "source": [
    "predictions = pipeline.predict(msg_test)"
   ]
  },
  {
   "cell_type": "code",
   "execution_count": null,
   "metadata": {},
   "outputs": [],
   "source": [
    "\n",
    "from sklearn.metrics import classification_report\n",
    "print('Confusion matrix on the data:')\n",
    "print(confusion_matrix(label_test, predictions))\n",
    "print('Classification on the data:')\n",
    "print (classification_report(label_test, predictions))\n"
   ]
  },
  {
   "cell_type": "code",
   "execution_count": null,
   "metadata": {
    "collapsed": true
   },
   "outputs": [],
   "source": []
  }
 ],
 "metadata": {
  "kernelspec": {
   "display_name": "Python 3",
   "language": "python",
   "name": "python3"
  },
  "language_info": {
   "codemirror_mode": {
    "name": "ipython",
    "version": 3
   },
   "file_extension": ".py",
   "mimetype": "text/x-python",
   "name": "python",
   "nbconvert_exporter": "python",
   "pygments_lexer": "ipython3",
   "version": "3.6.1"
  }
 },
 "nbformat": 4,
 "nbformat_minor": 2
}
