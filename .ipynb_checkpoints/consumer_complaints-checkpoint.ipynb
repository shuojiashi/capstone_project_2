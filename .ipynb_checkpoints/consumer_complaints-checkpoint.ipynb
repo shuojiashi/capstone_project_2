{
 "cells": [
  {
   "cell_type": "code",
   "execution_count": 1,
   "metadata": {
    "collapsed": true
   },
   "outputs": [],
   "source": [
    "# import important stuff\n",
    "import numpy as np\n",
    "import pandas as pd"
   ]
  },
  {
   "cell_type": "code",
   "execution_count": 2,
   "metadata": {
    "collapsed": true
   },
   "outputs": [],
   "source": [
    "# import visulization modules\n",
    "import matplotlib.pyplot as plt\n",
    "import seaborn as sns\n",
    "sns.set_style('whitegrid')\n",
    "sns.set_context(\"talk\")\n",
    "%matplotlib inline"
   ]
  },
  {
   "cell_type": "code",
   "execution_count": 3,
   "metadata": {
    "collapsed": true
   },
   "outputs": [],
   "source": [
    "# import the data from csv file with a series of NAN values \n",
    "df1 = pd.read_csv('Consumer_Complaints_sample.csv' )"
   ]
  },
  {
   "cell_type": "code",
   "execution_count": 4,
   "metadata": {
    "collapsed": true
   },
   "outputs": [],
   "source": [
    "df=df1"
   ]
  },
  {
   "cell_type": "code",
   "execution_count": 5,
   "metadata": {},
   "outputs": [
    {
     "data": {
      "text/html": [
       "<div>\n",
       "<style>\n",
       "    .dataframe thead tr:only-child th {\n",
       "        text-align: right;\n",
       "    }\n",
       "\n",
       "    .dataframe thead th {\n",
       "        text-align: left;\n",
       "    }\n",
       "\n",
       "    .dataframe tbody tr th {\n",
       "        vertical-align: top;\n",
       "    }\n",
       "</style>\n",
       "<table border=\"1\" class=\"dataframe\">\n",
       "  <thead>\n",
       "    <tr style=\"text-align: right;\">\n",
       "      <th></th>\n",
       "      <th>Unnamed: 0</th>\n",
       "      <th>Date received</th>\n",
       "      <th>Product</th>\n",
       "      <th>Sub-product</th>\n",
       "      <th>Issue</th>\n",
       "      <th>Sub-issue</th>\n",
       "      <th>Consumer complaint narrative</th>\n",
       "      <th>Company public response</th>\n",
       "      <th>Company</th>\n",
       "      <th>State</th>\n",
       "      <th>ZIP code</th>\n",
       "      <th>Tags</th>\n",
       "      <th>Consumer consent provided?</th>\n",
       "      <th>Submitted via</th>\n",
       "      <th>Date sent to company</th>\n",
       "      <th>Company response to consumer</th>\n",
       "      <th>Timely response?</th>\n",
       "      <th>Consumer disputed?</th>\n",
       "      <th>Complaint ID</th>\n",
       "    </tr>\n",
       "  </thead>\n",
       "  <tbody>\n",
       "    <tr>\n",
       "      <th>0</th>\n",
       "      <td>358563</td>\n",
       "      <td>03/20/2015</td>\n",
       "      <td>Bank account or service</td>\n",
       "      <td>Checking account</td>\n",
       "      <td>Account opening, closing, or management</td>\n",
       "      <td>NaN</td>\n",
       "      <td>NaN</td>\n",
       "      <td>NaN</td>\n",
       "      <td>PNC Bank N.A.</td>\n",
       "      <td>AL</td>\n",
       "      <td>35080</td>\n",
       "      <td>Older American</td>\n",
       "      <td>Consent not provided</td>\n",
       "      <td>Web</td>\n",
       "      <td>03/20/2015</td>\n",
       "      <td>Closed with explanation</td>\n",
       "      <td>Yes</td>\n",
       "      <td>Yes</td>\n",
       "      <td>1292440</td>\n",
       "    </tr>\n",
       "    <tr>\n",
       "      <th>1</th>\n",
       "      <td>559788</td>\n",
       "      <td>02/18/2014</td>\n",
       "      <td>Mortgage</td>\n",
       "      <td>Conventional fixed mortgage</td>\n",
       "      <td>Loan modification,collection,foreclosure</td>\n",
       "      <td>NaN</td>\n",
       "      <td>NaN</td>\n",
       "      <td>NaN</td>\n",
       "      <td>PNC Bank N.A.</td>\n",
       "      <td>NJ</td>\n",
       "      <td>07719</td>\n",
       "      <td>NaN</td>\n",
       "      <td>NaN</td>\n",
       "      <td>Web</td>\n",
       "      <td>02/26/2014</td>\n",
       "      <td>Closed with explanation</td>\n",
       "      <td>Yes</td>\n",
       "      <td>No</td>\n",
       "      <td>718324</td>\n",
       "    </tr>\n",
       "    <tr>\n",
       "      <th>2</th>\n",
       "      <td>290729</td>\n",
       "      <td>09/09/2016</td>\n",
       "      <td>Consumer Loan</td>\n",
       "      <td>Installment loan</td>\n",
       "      <td>Taking out the loan or lease</td>\n",
       "      <td>NaN</td>\n",
       "      <td>I had my credit score ran 2 times by Spring Le...</td>\n",
       "      <td>NaN</td>\n",
       "      <td>ONEMAIN FINANCIAL HOLDINGS, LLC.</td>\n",
       "      <td>TN</td>\n",
       "      <td>378XX</td>\n",
       "      <td>NaN</td>\n",
       "      <td>Consent provided</td>\n",
       "      <td>Web</td>\n",
       "      <td>09/13/2016</td>\n",
       "      <td>Closed with explanation</td>\n",
       "      <td>Yes</td>\n",
       "      <td>No</td>\n",
       "      <td>2102639</td>\n",
       "    </tr>\n",
       "    <tr>\n",
       "      <th>3</th>\n",
       "      <td>382875</td>\n",
       "      <td>04/23/2016</td>\n",
       "      <td>Debt collection</td>\n",
       "      <td>I do not know</td>\n",
       "      <td>Communication tactics</td>\n",
       "      <td>Frequent or repeated calls</td>\n",
       "      <td>NaN</td>\n",
       "      <td>Company believes it acted appropriately as aut...</td>\n",
       "      <td>ERC</td>\n",
       "      <td>TN</td>\n",
       "      <td>38478</td>\n",
       "      <td>NaN</td>\n",
       "      <td>Consent not provided</td>\n",
       "      <td>Web</td>\n",
       "      <td>04/27/2016</td>\n",
       "      <td>Closed with non-monetary relief</td>\n",
       "      <td>Yes</td>\n",
       "      <td>Yes</td>\n",
       "      <td>1891827</td>\n",
       "    </tr>\n",
       "    <tr>\n",
       "      <th>4</th>\n",
       "      <td>656826</td>\n",
       "      <td>08/04/2016</td>\n",
       "      <td>Credit reporting</td>\n",
       "      <td>NaN</td>\n",
       "      <td>Incorrect information on credit report</td>\n",
       "      <td>Account status</td>\n",
       "      <td>NaN</td>\n",
       "      <td>Company has responded to the consumer and the ...</td>\n",
       "      <td>Experian Information Solutions Inc.</td>\n",
       "      <td>GA</td>\n",
       "      <td>30041</td>\n",
       "      <td>NaN</td>\n",
       "      <td>Consent not provided</td>\n",
       "      <td>Web</td>\n",
       "      <td>08/04/2016</td>\n",
       "      <td>Closed with non-monetary relief</td>\n",
       "      <td>Yes</td>\n",
       "      <td>No</td>\n",
       "      <td>2044411</td>\n",
       "    </tr>\n",
       "  </tbody>\n",
       "</table>\n",
       "</div>"
      ],
      "text/plain": [
       "   Unnamed: 0 Date received                  Product  \\\n",
       "0      358563    03/20/2015  Bank account or service   \n",
       "1      559788    02/18/2014                 Mortgage   \n",
       "2      290729    09/09/2016            Consumer Loan   \n",
       "3      382875    04/23/2016          Debt collection   \n",
       "4      656826    08/04/2016         Credit reporting   \n",
       "\n",
       "                   Sub-product                                     Issue  \\\n",
       "0             Checking account   Account opening, closing, or management   \n",
       "1  Conventional fixed mortgage  Loan modification,collection,foreclosure   \n",
       "2             Installment loan              Taking out the loan or lease   \n",
       "3                I do not know                     Communication tactics   \n",
       "4                          NaN    Incorrect information on credit report   \n",
       "\n",
       "                    Sub-issue  \\\n",
       "0                         NaN   \n",
       "1                         NaN   \n",
       "2                         NaN   \n",
       "3  Frequent or repeated calls   \n",
       "4              Account status   \n",
       "\n",
       "                        Consumer complaint narrative  \\\n",
       "0                                                NaN   \n",
       "1                                                NaN   \n",
       "2  I had my credit score ran 2 times by Spring Le...   \n",
       "3                                                NaN   \n",
       "4                                                NaN   \n",
       "\n",
       "                             Company public response  \\\n",
       "0                                                NaN   \n",
       "1                                                NaN   \n",
       "2                                                NaN   \n",
       "3  Company believes it acted appropriately as aut...   \n",
       "4  Company has responded to the consumer and the ...   \n",
       "\n",
       "                               Company State ZIP code            Tags  \\\n",
       "0                        PNC Bank N.A.    AL    35080  Older American   \n",
       "1                        PNC Bank N.A.    NJ    07719             NaN   \n",
       "2     ONEMAIN FINANCIAL HOLDINGS, LLC.    TN    378XX             NaN   \n",
       "3                                  ERC    TN    38478             NaN   \n",
       "4  Experian Information Solutions Inc.    GA    30041             NaN   \n",
       "\n",
       "  Consumer consent provided? Submitted via Date sent to company  \\\n",
       "0       Consent not provided           Web           03/20/2015   \n",
       "1                        NaN           Web           02/26/2014   \n",
       "2           Consent provided           Web           09/13/2016   \n",
       "3       Consent not provided           Web           04/27/2016   \n",
       "4       Consent not provided           Web           08/04/2016   \n",
       "\n",
       "      Company response to consumer Timely response? Consumer disputed?  \\\n",
       "0          Closed with explanation              Yes                Yes   \n",
       "1          Closed with explanation              Yes                 No   \n",
       "2          Closed with explanation              Yes                 No   \n",
       "3  Closed with non-monetary relief              Yes                Yes   \n",
       "4  Closed with non-monetary relief              Yes                 No   \n",
       "\n",
       "   Complaint ID  \n",
       "0       1292440  \n",
       "1        718324  \n",
       "2       2102639  \n",
       "3       1891827  \n",
       "4       2044411  "
      ]
     },
     "execution_count": 5,
     "metadata": {},
     "output_type": "execute_result"
    }
   ],
   "source": [
    "df.head()"
   ]
  },
  {
   "cell_type": "code",
   "execution_count": 88,
   "metadata": {},
   "outputs": [
    {
     "name": "stdout",
     "output_type": "stream",
     "text": [
      "<class 'pandas.core.frame.DataFrame'>\n",
      "Int64Index: 76774 entries, 0 to 104587\n",
      "Data columns (total 22 columns):\n",
      "Unnamed: 0                      76774 non-null int64\n",
      "Date received                   76774 non-null object\n",
      "Product                         76774 non-null object\n",
      "Sub-product                     53207 non-null object\n",
      "Issue                           76774 non-null object\n",
      "Sub-issue                       31364 non-null object\n",
      "Consumer complaint narrative    16320 non-null object\n",
      "Company public response         19469 non-null object\n",
      "Company                         76774 non-null object\n",
      "State                           76199 non-null object\n",
      "ZIP code                        75848 non-null object\n",
      "Tags                            10862 non-null object\n",
      "Consumer consent provided?      29683 non-null object\n",
      "Submitted via                   76774 non-null object\n",
      "Date sent to company            76774 non-null object\n",
      "Company response to consumer    76774 non-null object\n",
      "Timely response?                76774 non-null object\n",
      "Consumer disputed?              76774 non-null object\n",
      "Complaint ID                    76774 non-null int64\n",
      "narative_bool                   76774 non-null bool\n",
      "narative_int                    76774 non-null int64\n",
      "Narrative_bool                  76774 non-null int64\n",
      "dtypes: bool(1), int64(4), object(17)\n",
      "memory usage: 15.5+ MB\n"
     ]
    }
   ],
   "source": [
    "df.info()"
   ]
  },
  {
   "cell_type": "code",
   "execution_count": 6,
   "metadata": {
    "collapsed": true
   },
   "outputs": [],
   "source": [
    "df.dropna(axis=0, subset=['Consumer disputed?'], inplace=True)"
   ]
  },
  {
   "cell_type": "code",
   "execution_count": 67,
   "metadata": {
    "collapsed": true
   },
   "outputs": [],
   "source": [
    "top_issue = list(pd.DataFrame(df['Issue'].value_counts()[0:30]).index)\n",
    "\n",
    "df_top_issue = df[df['Issue'].isin(top_issue)]"
   ]
  },
  {
   "cell_type": "code",
   "execution_count": 68,
   "metadata": {},
   "outputs": [
    {
     "data": {
      "text/plain": [
       "Loan modification,collection,foreclosure    11305\n",
       "Incorrect information on credit report      10198\n",
       "Loan servicing, payments, escrow account     7744\n",
       "Cont'd attempts collect debt not owed        6169\n",
       "Account opening, closing, or management      3756\n",
       "Disclosure verification of debt              3072\n",
       "Communication tactics                        2361\n",
       "Deposits and withdrawals                     2284\n",
       "Dealing with my lender or servicer           1831\n",
       "Application, originator, mortgage broker     1724\n",
       "Credit reporting company's investigation     1695\n",
       "Billing disputes                             1532\n",
       "Other                                        1513\n",
       "Managing the loan or lease                   1434\n",
       "Problems caused by my funds being low        1158\n",
       "False statements or representation           1085\n",
       "Unable to get credit report/credit score     1070\n",
       "Improper contact or sharing of info          1029\n",
       "Identity theft / Fraud / Embezzlement         917\n",
       "Taking/threatening an illegal action          915\n",
       "Problems when you are unable to pay           900\n",
       "Can't repay my loan                           894\n",
       "Settlement process and costs                  887\n",
       "Making/receiving payments, sending money      771\n",
       "Closing/Cancelling account                    645\n",
       "Using a debit or ATM card                     565\n",
       "Improper use of my credit report              548\n",
       "Credit decision / Underwriting                529\n",
       "APR or interest rate                          525\n",
       "Credit monitoring or identity protection      436\n",
       "Name: Issue, dtype: int64"
      ]
     },
     "execution_count": 68,
     "metadata": {},
     "output_type": "execute_result"
    }
   ],
   "source": [
    "df_top_issue['Issue'].value_counts()"
   ]
  },
  {
   "cell_type": "code",
   "execution_count": 69,
   "metadata": {
    "collapsed": true
   },
   "outputs": [],
   "source": [
    "top_company = list(pd.DataFrame(df_top_issue.Company.value_counts()[0:30]).index)\n",
    "df_top_issue_comp = df_top_issue[df_top_issue['Company'].isin(top_company)]"
   ]
  },
  {
   "cell_type": "code",
   "execution_count": 70,
   "metadata": {},
   "outputs": [
    {
     "data": {
      "text/plain": [
       "BANK OF AMERICA, NATIONAL ASSOCIATION     6165\n",
       "WELLS FARGO & COMPANY                     4891\n",
       "EQUIFAX, INC.                             4786\n",
       "Experian Information Solutions Inc.       4534\n",
       "TRANSUNION INTERMEDIATE HOLDINGS, INC.    3984\n",
       "JPMORGAN CHASE & CO.                      3659\n",
       "CITIBANK, N.A.                            2502\n",
       "OCWEN LOAN SERVICING LLC                  2439\n",
       "Navient Solutions, LLC.                   1635\n",
       "NATIONSTAR MORTGAGE                       1599\n",
       "CAPITAL ONE FINANCIAL CORPORATION         1397\n",
       "Ditech Financial LLC                      1176\n",
       "U.S. BANCORP                              1060\n",
       "PNC Bank N.A.                              855\n",
       "SYNCHRONY FINANCIAL                        826\n",
       "ENCORE CAPITAL GROUP INC.                  809\n",
       "HSBC NORTH AMERICA HOLDINGS INC.           685\n",
       "SUNTRUST BANKS, INC.                       616\n",
       "SELECT PORTFOLIO SERVICING, INC.           566\n",
       "TD BANK US HOLDING COMPANY                 510\n",
       "PORTFOLIO RECOVERY ASSOCIATES INC          480\n",
       "ERC                                        421\n",
       "AMERICAN EXPRESS COMPANY                   413\n",
       "DISCOVER BANK                              389\n",
       "AES/PHEAA                                  373\n",
       "CITIZENS FINANCIAL GROUP, INC.             351\n",
       "Seterus, Inc.                              343\n",
       "FIFTH THIRD FINANCIAL CORPORATION          318\n",
       "Specialized Loan Servicing LLC             307\n",
       "BB&T CORPORATION                           297\n",
       "Name: Company, dtype: int64"
      ]
     },
     "execution_count": 70,
     "metadata": {},
     "output_type": "execute_result"
    }
   ],
   "source": [
    "df_top_issue_comp['Company'].value_counts()"
   ]
  },
  {
   "cell_type": "code",
   "execution_count": 71,
   "metadata": {},
   "outputs": [
    {
     "data": {
      "text/plain": [
       "<matplotlib.axes._subplots.AxesSubplot at 0x1251be748>"
      ]
     },
     "execution_count": 71,
     "metadata": {},
     "output_type": "execute_result"
    },
    {
     "data": {
      "image/png": "[encoded data removed]",
      "text/plain": [
       "<matplotlib.figure.Figure at 0x126ddd128>"
      ]
     },
     "metadata": {},
     "output_type": "display_data"
    }
   ],
   "source": [
    "#check how many complaints were disputed. \n",
    "sns.countplot(df_top_issue_comp['Consumer disputed?'])"
   ]
  },
  {
   "cell_type": "code",
   "execution_count": 54,
   "metadata": {
    "collapsed": true
   },
   "outputs": [],
   "source": [
    "# choose categoric columns that we are using for initial test\n",
    "categoric = df_top_issue_comp[['Product','Issue', 'Company', 'Consumer consent provided?', 'Submitted via', 'Timely response?', 'Company response to consumer']]\n",
    "target_d = df_top_issue_comp['Consumer disputed?']"
   ]
  },
  {
   "cell_type": "code",
   "execution_count": 55,
   "metadata": {
    "collapsed": true
   },
   "outputs": [],
   "source": [
    "df_dummy_cate = pd.get_dummies(data=categoric, drop_first=True)\n",
    "target_dummy = pd.get_dummies(data=target_d, drop_first=True)\n",
    "df_dummy = df_dummy_cate.join(target_dummy)"
   ]
  },
  {
   "cell_type": "code",
   "execution_count": 56,
   "metadata": {},
   "outputs": [
    {
     "data": {
      "text/plain": [
       "Product_Credit reporting                                       -0.079710\n",
       "Product_Debt collection                                        -0.001428\n",
       "Product_Mortgage                                                0.080950\n",
       "Product_Student loan                                            0.003674\n",
       "Issue_Application, originator, mortgage broker                  0.034167\n",
       "Issue_Communication tactics                                    -0.027647\n",
       "Issue_Cont'd attempts collect debt not owed                     0.005709\n",
       "Issue_Dealing with my lender or servicer                        0.003674\n",
       "Issue_Deposits and withdrawals                                 -0.010172\n",
       "Issue_Disclosure verification of debt                           0.013809\n",
       "Issue_Incorrect information on credit report                   -0.079710\n",
       "Issue_Loan modification,collection,foreclosure                  0.037525\n",
       "Issue_Loan servicing, payments, escrow account                  0.046953\n",
       "Company_BANK OF AMERICA, NATIONAL ASSOCIATION                   0.024405\n",
       "Company_BB&T CORPORATION                                        0.013409\n",
       "Company_CAPITAL ONE FINANCIAL CORPORATION                       0.000808\n",
       "Company_CITIBANK, N.A.                                         -0.000188\n",
       "Company_CITIZENS FINANCIAL GROUP, INC.                         -0.006008\n",
       "Company_Convergent Resources, Inc.                             -0.014763\n",
       "Company_Ditech Financial LLC                                    0.012265\n",
       "Company_ENCORE CAPITAL GROUP INC.                               0.000713\n",
       "Company_EQUIFAX, INC.                                           0.002031\n",
       "Company_ERC                                                    -0.000815\n",
       "Company_Experian Information Solutions Inc.                    -0.070195\n",
       "Company_FIFTH THIRD FINANCIAL CORPORATION                       0.005784\n",
       "Company_HSBC NORTH AMERICA HOLDINGS INC.                        0.006089\n",
       "Company_JPMORGAN CHASE & CO.                                    0.013688\n",
       "Company_M&T BANK CORPORATION                                   -0.002402\n",
       "Company_NATIONSTAR MORTGAGE                                     0.017265\n",
       "Company_Navient Solutions, LLC.                                 0.008810\n",
       "Company_OCWEN LOAN SERVICING LLC                                0.026068\n",
       "Company_PNC Bank N.A.                                          -0.011796\n",
       "Company_PORTFOLIO RECOVERY ASSOCIATES INC                       0.000223\n",
       "Company_SELECT PORTFOLIO SERVICING, INC.                        0.009971\n",
       "Company_SUNTRUST BANKS, INC.                                    0.003805\n",
       "Company_SYNCHRONY FINANCIAL                                     0.002909\n",
       "Company_Seterus, Inc.                                           0.009471\n",
       "Company_Specialized Loan Servicing LLC                          0.010441\n",
       "Company_TD BANK US HOLDING COMPANY                              0.007509\n",
       "Company_TRANSUNION INTERMEDIATE HOLDINGS, INC.                 -0.055794\n",
       "Company_U.S. BANCORP                                            0.011752\n",
       "Company_WELLS FARGO & COMPANY                                   0.015593\n",
       "Consumer consent provided?_Consent provided                     0.031741\n",
       "Consumer consent provided?_Other                               -0.004986\n",
       "Submitted via_Fax                                               0.011789\n",
       "Submitted via_Phone                                            -0.007348\n",
       "Submitted via_Postal mail                                      -0.045045\n",
       "Submitted via_Referral                                         -0.041579\n",
       "Submitted via_Web                                               0.060752\n",
       "Timely response?_Yes                                            0.010622\n",
       "Company response to consumer_Closed with explanation            0.062037\n",
       "Company response to consumer_Closed with monetary relief       -0.044076\n",
       "Company response to consumer_Closed with non-monetary relief   -0.075910\n",
       "Company response to consumer_Closed with relief                -0.004733\n",
       "Company response to consumer_Closed without relief              0.042467\n",
       "Company response to consumer_Untimely response                 -0.011596\n",
       "Yes                                                             1.000000\n",
       "Name: Yes, dtype: float64"
      ]
     },
     "execution_count": 56,
     "metadata": {},
     "output_type": "execute_result"
    }
   ],
   "source": [
    "df_dummy.corr()['Yes']"
   ]
  },
  {
   "cell_type": "code",
   "execution_count": 57,
   "metadata": {},
   "outputs": [
    {
     "name": "stdout",
     "output_type": "stream",
     "text": [
      "Consumer disputed?     Company response to consumer        No       Yes\n",
      "0                                            Closed  0.760446  0.239554\n",
      "1                           Closed with explanation  0.756865  0.243135\n",
      "2                       Closed with monetary relief  0.890265  0.109735\n",
      "3                   Closed with non-monetary relief  0.864337  0.135663\n",
      "4                                 Untimely response  1.000000       NaN\n"
     ]
    },
    {
     "data": {
      "text/plain": [
       "<matplotlib.text.Text at 0x11df737f0>"
      ]
     },
     "execution_count": 57,
     "metadata": {},
     "output_type": "execute_result"
    },
    {
     "data": {
      "image/png": "[encoded data removed]",
      "text/plain": [
       "<matplotlib.figure.Figure at 0x11dc82a58>"
      ]
     },
     "metadata": {},
     "output_type": "display_data"
    }
   ],
   "source": [
    "\n",
    "#check how many complaints were disputed for each company response. \n",
    "print(df_narative.groupby('Company response to consumer')['Consumer disputed?'].value_counts(normalize=True).unstack().reset_index())\n",
    "df_response = df_narative.groupby('Company response to consumer')['Consumer disputed?'].value_counts(normalize=True).unstack().reset_index()\n",
    "df_response.dropna(subset=['Yes'], inplace=True)\n",
    "sns.barplot(y='Company response to consumer', x='Yes', data = df_response)\n",
    "plt.xlabel('Complaint disputed')"
   ]
  },
  {
   "cell_type": "code",
   "execution_count": 58,
   "metadata": {
    "collapsed": true
   },
   "outputs": [],
   "source": [
    "df['narative_bool'] = pd.isnull(df['Consumer complaint narrative'])"
   ]
  },
  {
   "cell_type": "code",
   "execution_count": 59,
   "metadata": {
    "collapsed": true
   },
   "outputs": [],
   "source": [
    "df['narative_int'] = df['narative_bool'].astype(int)"
   ]
  },
  {
   "cell_type": "code",
   "execution_count": 60,
   "metadata": {
    "scrolled": true
   },
   "outputs": [
    {
     "data": {
      "text/html": [
       "<div>\n",
       "<style>\n",
       "    .dataframe thead tr:only-child th {\n",
       "        text-align: right;\n",
       "    }\n",
       "\n",
       "    .dataframe thead th {\n",
       "        text-align: left;\n",
       "    }\n",
       "\n",
       "    .dataframe tbody tr th {\n",
       "        vertical-align: top;\n",
       "    }\n",
       "</style>\n",
       "<table border=\"1\" class=\"dataframe\">\n",
       "  <thead>\n",
       "    <tr style=\"text-align: right;\">\n",
       "      <th>narative_bool</th>\n",
       "      <th>False</th>\n",
       "      <th>True</th>\n",
       "    </tr>\n",
       "    <tr>\n",
       "      <th>Consumer disputed?</th>\n",
       "      <th></th>\n",
       "      <th></th>\n",
       "    </tr>\n",
       "  </thead>\n",
       "  <tbody>\n",
       "    <tr>\n",
       "      <th>No</th>\n",
       "      <td>0.205160</td>\n",
       "      <td>0.794840</td>\n",
       "    </tr>\n",
       "    <tr>\n",
       "      <th>Yes</th>\n",
       "      <td>0.243906</td>\n",
       "      <td>0.756094</td>\n",
       "    </tr>\n",
       "  </tbody>\n",
       "</table>\n",
       "</div>"
      ],
      "text/plain": [
       "narative_bool          False     True \n",
       "Consumer disputed?                    \n",
       "No                  0.205160  0.794840\n",
       "Yes                 0.243906  0.756094"
      ]
     },
     "execution_count": 60,
     "metadata": {},
     "output_type": "execute_result"
    }
   ],
   "source": [
    "# did narrative or not have an effect on dispute?\n",
    "df.groupby('Consumer disputed?')['narative_bool'].value_counts(normalize=True).unstack()"
   ]
  },
  {
   "cell_type": "code",
   "execution_count": 61,
   "metadata": {
    "scrolled": true
   },
   "outputs": [
    {
     "data": {
      "text/plain": [
       "(array([ 0,  1,  2,  3,  4,  5,  6,  7,  8,  9, 10, 11]),\n",
       " <a list of 12 Text xticklabel objects>)"
      ]
     },
     "execution_count": 61,
     "metadata": {},
     "output_type": "execute_result"
    },
    {
     "data": {
      "image/png": "[encoded data removed]",
      "text/plain": [
       "<matplotlib.figure.Figure at 0x11dc828d0>"
      ]
     },
     "metadata": {},
     "output_type": "display_data"
    }
   ],
   "source": [
    "#how many complaints for each financial product?\n",
    "sns.countplot(df['Product'], color='blue')\n",
    "plt.xticks(rotation=40, ha=\"right\")"
   ]
  },
  {
   "cell_type": "code",
   "execution_count": 62,
   "metadata": {
    "scrolled": true
   },
   "outputs": [
    {
     "data": {
      "text/plain": [
       "<matplotlib.text.Text at 0x125a831d0>"
      ]
     },
     "execution_count": 62,
     "metadata": {},
     "output_type": "execute_result"
    },
    {
     "data": {
      "image/png": "[encoded data removed]",
      "text/plain": [
       "<matplotlib.figure.Figure at 0x11dfcb0f0>"
      ]
     },
     "metadata": {},
     "output_type": "display_data"
    }
   ],
   "source": [
    "# any product particularly easy to be disputed?\n",
    "df_product = df.groupby('Product')['Consumer disputed?'].value_counts(normalize=True).unstack().reset_index()[:-1]\n",
    "sns.barplot(y='Product', x='Yes', data = df_product.sort_values('Yes'), palette='Blues')\n",
    "plt.xlabel('Complaint disputed')"
   ]
  },
  {
   "cell_type": "code",
   "execution_count": 63,
   "metadata": {
    "scrolled": false
   },
   "outputs": [
    {
     "data": {
      "text/plain": [
       "<matplotlib.text.Text at 0x126203940>"
      ]
     },
     "execution_count": 63,
     "metadata": {},
     "output_type": "execute_result"
    },
    {
     "data": {
      "image/png": "[encoded data removed]",
      "text/plain": [
       "<matplotlib.figure.Figure at 0x1261460b8>"
      ]
     },
     "metadata": {},
     "output_type": "display_data"
    }
   ],
   "source": [
    "#most appeared companies VS disputed?\n",
    "df_comp = df_top_issue_comp.groupby('Company')['Consumer disputed?'].value_counts(normalize=True).unstack().reset_index()\n",
    "sns.barplot(y='Company', x='Yes', data = df_comp.sort_values('Yes'))\n",
    "plt.xlabel('Complaint disputed')"
   ]
  },
  {
   "cell_type": "code",
   "execution_count": 72,
   "metadata": {
    "collapsed": true
   },
   "outputs": [],
   "source": [
    "# import sklearn modules\n",
    "from sklearn.metrics import mean_squared_error\n",
    "from sklearn.model_selection import train_test_split\n",
    "from sklearn.model_selection import cross_val_score\n",
    "from sklearn.model_selection import GridSearchCV\n",
    "from sklearn.ensemble import RandomForestClassifier\n",
    "from sklearn.ensemble import AdaBoostClassifier\n",
    "from sklearn.linear_model import LogisticRegression\n",
    "from sklearn.neighbors import KNeighborsClassifier\n",
    "from sklearn.metrics import classification_report\n",
    "from sklearn.metrics import confusion_matrix\n",
    "from sklearn.metrics import roc_curve\n",
    "from imblearn.under_sampling import RandomUnderSampler\n",
    "from sklearn.naive_bayes import GaussianNB\n",
    "from sklearn.tree import DecisionTreeClassifier"
   ]
  },
  {
   "cell_type": "code",
   "execution_count": 81,
   "metadata": {},
   "outputs": [],
   "source": []
  },
  {
   "cell_type": "code",
   "execution_count": 84,
   "metadata": {},
   "outputs": [
    {
     "data": {
      "text/html": [
       "<div>\n",
       "<style>\n",
       "    .dataframe thead tr:only-child th {\n",
       "        text-align: right;\n",
       "    }\n",
       "\n",
       "    .dataframe thead th {\n",
       "        text-align: left;\n",
       "    }\n",
       "\n",
       "    .dataframe tbody tr th {\n",
       "        vertical-align: top;\n",
       "    }\n",
       "</style>\n",
       "<table border=\"1\" class=\"dataframe\">\n",
       "  <thead>\n",
       "    <tr style=\"text-align: right;\">\n",
       "      <th></th>\n",
       "      <th>Unnamed: 0</th>\n",
       "      <th>Date received</th>\n",
       "      <th>Product</th>\n",
       "      <th>Sub-product</th>\n",
       "      <th>Issue</th>\n",
       "      <th>Sub-issue</th>\n",
       "      <th>Consumer complaint narrative</th>\n",
       "      <th>Company public response</th>\n",
       "      <th>Company</th>\n",
       "      <th>State</th>\n",
       "      <th>...</th>\n",
       "      <th>Tags</th>\n",
       "      <th>Consumer consent provided?</th>\n",
       "      <th>Submitted via</th>\n",
       "      <th>Date sent to company</th>\n",
       "      <th>Company response to consumer</th>\n",
       "      <th>Timely response?</th>\n",
       "      <th>Complaint ID</th>\n",
       "      <th>narative_bool</th>\n",
       "      <th>narative_int</th>\n",
       "      <th>Narrative_bool</th>\n",
       "    </tr>\n",
       "  </thead>\n",
       "  <tbody>\n",
       "    <tr>\n",
       "      <th>0</th>\n",
       "      <td>358563</td>\n",
       "      <td>03/20/2015</td>\n",
       "      <td>Bank account or service</td>\n",
       "      <td>Checking account</td>\n",
       "      <td>Account opening, closing, or management</td>\n",
       "      <td>NaN</td>\n",
       "      <td>NaN</td>\n",
       "      <td>NaN</td>\n",
       "      <td>PNC Bank N.A.</td>\n",
       "      <td>AL</td>\n",
       "      <td>...</td>\n",
       "      <td>Older American</td>\n",
       "      <td>Consent not provided</td>\n",
       "      <td>Web</td>\n",
       "      <td>03/20/2015</td>\n",
       "      <td>Closed with explanation</td>\n",
       "      <td>Yes</td>\n",
       "      <td>1292440</td>\n",
       "      <td>True</td>\n",
       "      <td>1</td>\n",
       "      <td>0</td>\n",
       "    </tr>\n",
       "    <tr>\n",
       "      <th>1</th>\n",
       "      <td>559788</td>\n",
       "      <td>02/18/2014</td>\n",
       "      <td>Mortgage</td>\n",
       "      <td>Conventional fixed mortgage</td>\n",
       "      <td>Loan modification,collection,foreclosure</td>\n",
       "      <td>NaN</td>\n",
       "      <td>NaN</td>\n",
       "      <td>NaN</td>\n",
       "      <td>PNC Bank N.A.</td>\n",
       "      <td>NJ</td>\n",
       "      <td>...</td>\n",
       "      <td>NaN</td>\n",
       "      <td>NaN</td>\n",
       "      <td>Web</td>\n",
       "      <td>02/26/2014</td>\n",
       "      <td>Closed with explanation</td>\n",
       "      <td>Yes</td>\n",
       "      <td>718324</td>\n",
       "      <td>True</td>\n",
       "      <td>1</td>\n",
       "      <td>0</td>\n",
       "    </tr>\n",
       "    <tr>\n",
       "      <th>3</th>\n",
       "      <td>382875</td>\n",
       "      <td>04/23/2016</td>\n",
       "      <td>Debt collection</td>\n",
       "      <td>I do not know</td>\n",
       "      <td>Communication tactics</td>\n",
       "      <td>Frequent or repeated calls</td>\n",
       "      <td>NaN</td>\n",
       "      <td>Company believes it acted appropriately as aut...</td>\n",
       "      <td>ERC</td>\n",
       "      <td>TN</td>\n",
       "      <td>...</td>\n",
       "      <td>NaN</td>\n",
       "      <td>Consent not provided</td>\n",
       "      <td>Web</td>\n",
       "      <td>04/27/2016</td>\n",
       "      <td>Closed with non-monetary relief</td>\n",
       "      <td>Yes</td>\n",
       "      <td>1891827</td>\n",
       "      <td>True</td>\n",
       "      <td>1</td>\n",
       "      <td>0</td>\n",
       "    </tr>\n",
       "    <tr>\n",
       "      <th>4</th>\n",
       "      <td>656826</td>\n",
       "      <td>08/04/2016</td>\n",
       "      <td>Credit reporting</td>\n",
       "      <td>NaN</td>\n",
       "      <td>Incorrect information on credit report</td>\n",
       "      <td>Account status</td>\n",
       "      <td>NaN</td>\n",
       "      <td>Company has responded to the consumer and the ...</td>\n",
       "      <td>Experian Information Solutions Inc.</td>\n",
       "      <td>GA</td>\n",
       "      <td>...</td>\n",
       "      <td>NaN</td>\n",
       "      <td>Consent not provided</td>\n",
       "      <td>Web</td>\n",
       "      <td>08/04/2016</td>\n",
       "      <td>Closed with non-monetary relief</td>\n",
       "      <td>Yes</td>\n",
       "      <td>2044411</td>\n",
       "      <td>True</td>\n",
       "      <td>1</td>\n",
       "      <td>0</td>\n",
       "    </tr>\n",
       "    <tr>\n",
       "      <th>8</th>\n",
       "      <td>246978</td>\n",
       "      <td>12/03/2016</td>\n",
       "      <td>Mortgage</td>\n",
       "      <td>Conventional adjustable mortgage (ARM)</td>\n",
       "      <td>Loan modification,collection,foreclosure</td>\n",
       "      <td>NaN</td>\n",
       "      <td>This is my 3rd and hopefully my last Complaint...</td>\n",
       "      <td>NaN</td>\n",
       "      <td>OCWEN LOAN SERVICING LLC</td>\n",
       "      <td>LA</td>\n",
       "      <td>...</td>\n",
       "      <td>Older American</td>\n",
       "      <td>Consent provided</td>\n",
       "      <td>Web</td>\n",
       "      <td>12/03/2016</td>\n",
       "      <td>Closed with explanation</td>\n",
       "      <td>Yes</td>\n",
       "      <td>2233571</td>\n",
       "      <td>False</td>\n",
       "      <td>0</td>\n",
       "      <td>1</td>\n",
       "    </tr>\n",
       "  </tbody>\n",
       "</table>\n",
       "<p>5 rows × 21 columns</p>\n",
       "</div>"
      ],
      "text/plain": [
       "   Unnamed: 0 Date received                  Product  \\\n",
       "0      358563    03/20/2015  Bank account or service   \n",
       "1      559788    02/18/2014                 Mortgage   \n",
       "3      382875    04/23/2016          Debt collection   \n",
       "4      656826    08/04/2016         Credit reporting   \n",
       "8      246978    12/03/2016                 Mortgage   \n",
       "\n",
       "                              Sub-product  \\\n",
       "0                        Checking account   \n",
       "1             Conventional fixed mortgage   \n",
       "3                           I do not know   \n",
       "4                                     NaN   \n",
       "8  Conventional adjustable mortgage (ARM)   \n",
       "\n",
       "                                      Issue                   Sub-issue  \\\n",
       "0   Account opening, closing, or management                         NaN   \n",
       "1  Loan modification,collection,foreclosure                         NaN   \n",
       "3                     Communication tactics  Frequent or repeated calls   \n",
       "4    Incorrect information on credit report              Account status   \n",
       "8  Loan modification,collection,foreclosure                         NaN   \n",
       "\n",
       "                        Consumer complaint narrative  \\\n",
       "0                                                NaN   \n",
       "1                                                NaN   \n",
       "3                                                NaN   \n",
       "4                                                NaN   \n",
       "8  This is my 3rd and hopefully my last Complaint...   \n",
       "\n",
       "                             Company public response  \\\n",
       "0                                                NaN   \n",
       "1                                                NaN   \n",
       "3  Company believes it acted appropriately as aut...   \n",
       "4  Company has responded to the consumer and the ...   \n",
       "8                                                NaN   \n",
       "\n",
       "                               Company State       ...                  Tags  \\\n",
       "0                        PNC Bank N.A.    AL       ...        Older American   \n",
       "1                        PNC Bank N.A.    NJ       ...                   NaN   \n",
       "3                                  ERC    TN       ...                   NaN   \n",
       "4  Experian Information Solutions Inc.    GA       ...                   NaN   \n",
       "8             OCWEN LOAN SERVICING LLC    LA       ...        Older American   \n",
       "\n",
       "  Consumer consent provided? Submitted via Date sent to company  \\\n",
       "0       Consent not provided           Web           03/20/2015   \n",
       "1                        NaN           Web           02/26/2014   \n",
       "3       Consent not provided           Web           04/27/2016   \n",
       "4       Consent not provided           Web           08/04/2016   \n",
       "8           Consent provided           Web           12/03/2016   \n",
       "\n",
       "      Company response to consumer Timely response? Complaint ID  \\\n",
       "0          Closed with explanation              Yes      1292440   \n",
       "1          Closed with explanation              Yes       718324   \n",
       "3  Closed with non-monetary relief              Yes      1891827   \n",
       "4  Closed with non-monetary relief              Yes      2044411   \n",
       "8          Closed with explanation              Yes      2233571   \n",
       "\n",
       "   narative_bool  narative_int  Narrative_bool  \n",
       "0           True             1               0  \n",
       "1           True             1               0  \n",
       "3           True             1               0  \n",
       "4           True             1               0  \n",
       "8          False             0               1  \n",
       "\n",
       "[5 rows x 21 columns]"
      ]
     },
     "execution_count": 84,
     "metadata": {},
     "output_type": "execute_result"
    }
   ],
   "source": [
    "df_top_issue_comp"
   ]
  },
  {
   "cell_type": "code",
   "execution_count": 91,
   "metadata": {},
   "outputs": [],
   "source": [
    "df_top_issue_comp_short = df_top_issue_comp.drop(['Unnamed: 0', 'Sub-issue', 'Company public response', 'Consumer consent provided?', 'Date sent to company', 'Date received', 'Consumer complaint narrative','Complaint ID', 'narative_bool','narative_int','Narrative_bool'],axis=1)"
   ]
  },
  {
   "cell_type": "code",
   "execution_count": 93,
   "metadata": {},
   "outputs": [],
   "source": [
    "df_dummies = pd.get_dummies(data=df_top_issue_comp_short.drop('Consumer disputed?', axis=1), drop_first=True)"
   ]
  },
  {
   "cell_type": "code",
   "execution_count": 94,
   "metadata": {},
   "outputs": [
    {
     "name": "stdout",
     "output_type": "stream",
     "text": [
      "<class 'pandas.core.frame.DataFrame'>\n",
      "Int64Index: 48386 entries, 0 to 104587\n",
      "Columns: 12726 entries, Product_Consumer Loan to Timely response?_Yes\n",
      "dtypes: uint8(12726)\n",
      "memory usage: 588.9 MB\n"
     ]
    }
   ],
   "source": [
    "df_dummies.info()"
   ]
  },
  {
   "cell_type": "code",
   "execution_count": 96,
   "metadata": {},
   "outputs": [
    {
     "name": "stdout",
     "output_type": "stream",
     "text": [
      "Raw Training Set Percent Yes: 19.8%\n",
      "Resampled Training Set Percent Yes: 50.0%\n"
     ]
    }
   ],
   "source": [
    "# Identify variables\n",
    "X = df_dummies\n",
    "target_map = {'Yes': 1, 'No':0}\n",
    "y = df_top_issue_comp['Consumer disputed?'].map(target_map)\n",
    "\n",
    "# Splitting into train and test sets\n",
    "X_train, X_test, y_train, y_test = train_test_split(X, y, test_size=0.7, random_state=41)\n",
    "\n",
    "\n",
    "rus = RandomUnderSampler(random_state=41)\n",
    "X_rus, y_rus = rus.fit_sample(X=X_train, y=y_train)\n",
    "X_rus_test, y_rus_test = rus.fit_sample(X=X_test, y=y_test)\n",
    "\n",
    "print('Raw Training Set Percent Yes: {:.1f}%'.format(\n",
    "    len(y_train[y_train == 1])/len(y_train)*100))\n",
    "print('Resampled Training Set Percent Yes: {}%'.format(\n",
    "    len(y_rus[y_rus == 1])/len(y_rus)*100))"
   ]
  },
  {
   "cell_type": "code",
   "execution_count": null,
   "metadata": {},
   "outputs": [],
   "source": [
    "#Random forest classifier parameter optimization:\n",
    "\n",
    "rf = RandomForestClassifier()\n",
    "param_grid = {\"n_estimators\": [10, 50, 100],\n",
    "              \"max_features\": [10, 30, 100],\n",
    "              \"max_depth\": [10, 100, 300]\n",
    "              }\n",
    "\n",
    "grid_rf = GridSearchCV(rf, param_grid=param_grid, cv=5)\n",
    "grid_rf.fit(X_rus, y_rus)\n",
    "\n",
    "# Printing the best score from the model\n",
    "print('Best Score:', grid_rf.best_score_)\n",
    "\n",
    "# Saving and printing the best parameters from the model\n",
    "best_params = grid_rf.best_params_\n",
    "print('Best Parameters:', best_params)"
   ]
  },
  {
   "cell_type": "code",
   "execution_count": null,
   "metadata": {},
   "outputs": [],
   "source": [
    "#initiate a instance for classifier\n",
    "rf = RandomForestClassifier(**best_params)\n",
    "\n",
    "# Fit the classifier to the training data\n",
    "rf.fit(X_rus, y_rus)\n",
    "\n",
    "# Predict the labels of the test data: y_pred\n",
    "y_pred = rf.predict(X_test)\n",
    "\n",
    "scores_rf_train = cross_val_score(rf, X_rus, y_rus, cv=5)\n",
    "print('Cross Validation Accuracy Scores - Training Set: {:.5f}(+/- {:.2f})'.format(scores_rf_train.mean(), \n",
    "                                                                                 scores_rf_train.std()*2))\n",
    "scores_rf_test = cross_val_score(rf, X_rus_test, y_rus_test, cv=5)\n",
    "print('Cross Validation Accuracy Scores - Test Set: {:.5f}(+/- {:.2f})'.format(scores_rf_test.mean(), \n",
    "                                                                                 scores_rf_test.std()*2))\n",
    "\n",
    "# Generate the confusion matrix and classification report\n",
    "print('Confusion matrix on the test data:')\n",
    "print(confusion_matrix(y_test, y_pred))\n",
    "print('Classification report on the test data:')\n",
    "print(classification_report(y_test, y_pred))"
   ]
  },
  {
   "cell_type": "code",
   "execution_count": 78,
   "metadata": {},
   "outputs": [
    {
     "data": {
      "text/plain": [
       "48386"
      ]
     },
     "execution_count": 78,
     "metadata": {},
     "output_type": "execute_result"
    }
   ],
   "source": [
    "len(X)"
   ]
  },
  {
   "cell_type": "code",
   "execution_count": 64,
   "metadata": {},
   "outputs": [
    {
     "name": "stderr",
     "output_type": "stream",
     "text": [
      "/anaconda/lib/python3.6/site-packages/ipykernel_launcher.py:2: SettingWithCopyWarning: \n",
      "A value is trying to be set on a copy of a slice from a DataFrame.\n",
      "Try using .loc[row_indexer,col_indexer] = value instead\n",
      "\n",
      "See the caveats in the documentation: http://pandas.pydata.org/pandas-docs/stable/indexing.html#indexing-view-versus-copy\n",
      "  \n"
     ]
    },
    {
     "data": {
      "text/plain": [
       "<matplotlib.axes._subplots.AxesSubplot at 0x126d937f0>"
      ]
     },
     "execution_count": 64,
     "metadata": {},
     "output_type": "execute_result"
    },
    {
     "data": {
      "image/png": "[encoded data removed]",
      "text/plain": [
       "<matplotlib.figure.Figure at 0x1199d0828>"
      ]
     },
     "metadata": {},
     "output_type": "display_data"
    }
   ],
   "source": [
    "df_narative = df.dropna(axis=0, subset=['Consumer complaint narrative'])\n",
    "df_narative['NarativeLength'] = [len(nara) for nara in df_narative['Consumer complaint narrative']]\n",
    "# length of the narrative VS consumer disputed?\n",
    "sns.barplot(data=df_narative, y='NarativeLength', x='Consumer disputed?')"
   ]
  },
  {
   "cell_type": "code",
   "execution_count": 65,
   "metadata": {
    "collapsed": true
   },
   "outputs": [],
   "source": [
    "df_nara_bool = df['Consumer complaint narrative'].fillna(0)"
   ]
  },
  {
   "cell_type": "code",
   "execution_count": 66,
   "metadata": {
    "collapsed": true
   },
   "outputs": [],
   "source": [
    "df_nara_bool2=[]\n",
    "for nara in df_nara_bool:\n",
    "    if nara is not 0:\n",
    "        df_nara_bool2.append(1)\n",
    "    else: \n",
    "        df_nara_bool2.append(0)"
   ]
  },
  {
   "cell_type": "code",
   "execution_count": 43,
   "metadata": {
    "collapsed": true
   },
   "outputs": [],
   "source": [
    "df['Narrative_bool'] = df_nara_bool2"
   ]
  },
  {
   "cell_type": "code",
   "execution_count": 26,
   "metadata": {},
   "outputs": [
    {
     "data": {
      "text/plain": [
       "<matplotlib.text.Text at 0x11c32c4e0>"
      ]
     },
     "execution_count": 26,
     "metadata": {},
     "output_type": "execute_result"
    },
    {
     "data": {
      "image/png": "[encoded data removed]",
      "text/plain": [
       "<matplotlib.figure.Figure at 0x11db25f98>"
      ]
     },
     "metadata": {},
     "output_type": "display_data"
    }
   ],
   "source": [
    "df_narrative_bool = df.groupby('Narrative_bool')['Consumer disputed?'].value_counts(normalize=True).unstack().reset_index()\n",
    "df_narrative_bool\n",
    "sns.barplot(x='Narrative_bool', y='Yes', data = df_narrative_bool.sort_values('Yes'))\n",
    "plt.ylabel('Complaint disputed')\n",
    "plt.xlabel('Whether Consumer Authorize Narrative')"
   ]
  },
  {
   "cell_type": "code",
   "execution_count": null,
   "metadata": {
    "collapsed": true
   },
   "outputs": [],
   "source": []
  }
 ],
 "metadata": {
  "kernelspec": {
   "display_name": "Python 3",
   "language": "python",
   "name": "python3"
  },
  "language_info": {
   "codemirror_mode": {
    "name": "ipython",
    "version": 3
   },
   "file_extension": ".py",
   "mimetype": "text/x-python",
   "name": "python",
   "nbconvert_exporter": "python",
   "pygments_lexer": "ipython3",
   "version": "3.6.1"
  }
 },
 "nbformat": 4,
 "nbformat_minor": 2
}
