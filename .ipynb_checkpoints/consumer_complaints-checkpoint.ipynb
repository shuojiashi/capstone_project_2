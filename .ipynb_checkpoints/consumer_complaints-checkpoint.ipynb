{
 "cells": [
  {
   "cell_type": "code",
   "execution_count": 1,
   "metadata": {
    "collapsed": true
   },
   "outputs": [],
   "source": [
    "# import important stuff\n",
    "import numpy as np\n",
    "import pandas as pd"
   ]
  },
  {
   "cell_type": "code",
   "execution_count": 2,
   "metadata": {
    "collapsed": true
   },
   "outputs": [],
   "source": [
    "# import visulization modules\n",
    "import matplotlib.pyplot as plt\n",
    "import seaborn as sns\n",
    "sns.set_style('whitegrid')\n",
    "sns.set_context(\"talk\")\n",
    "%matplotlib inline"
   ]
  },
  {
   "cell_type": "code",
   "execution_count": 3,
   "metadata": {
    "collapsed": true
   },
   "outputs": [],
   "source": [
    "# import the data from csv file with a series of NAN values \n",
    "df1 = pd.read_csv('Consumer_Complaints_sample.csv' )"
   ]
  },
  {
   "cell_type": "code",
   "execution_count": 13,
   "metadata": {
    "collapsed": true
   },
   "outputs": [],
   "source": [
    "df=df1"
   ]
  },
  {
   "cell_type": "code",
   "execution_count": 6,
   "metadata": {},
   "outputs": [
    {
     "data": {
      "text/html": [
       "<div>\n",
       "<style>\n",
       "    .dataframe thead tr:only-child th {\n",
       "        text-align: right;\n",
       "    }\n",
       "\n",
       "    .dataframe thead th {\n",
       "        text-align: left;\n",
       "    }\n",
       "\n",
       "    .dataframe tbody tr th {\n",
       "        vertical-align: top;\n",
       "    }\n",
       "</style>\n",
       "<table border=\"1\" class=\"dataframe\">\n",
       "  <thead>\n",
       "    <tr style=\"text-align: right;\">\n",
       "      <th></th>\n",
       "      <th>Date received</th>\n",
       "      <th>Product</th>\n",
       "      <th>Sub-product</th>\n",
       "      <th>Issue</th>\n",
       "      <th>Sub-issue</th>\n",
       "      <th>Consumer complaint narrative</th>\n",
       "      <th>Company public response</th>\n",
       "      <th>Company</th>\n",
       "      <th>State</th>\n",
       "      <th>ZIP code</th>\n",
       "      <th>Tags</th>\n",
       "      <th>Consumer consent provided?</th>\n",
       "      <th>Submitted via</th>\n",
       "      <th>Date sent to company</th>\n",
       "      <th>Company response to consumer</th>\n",
       "      <th>Timely response?</th>\n",
       "      <th>Consumer disputed?</th>\n",
       "      <th>Complaint ID</th>\n",
       "    </tr>\n",
       "  </thead>\n",
       "  <tbody>\n",
       "    <tr>\n",
       "      <th>358563</th>\n",
       "      <td>03/20/2015</td>\n",
       "      <td>Bank account or service</td>\n",
       "      <td>Checking account</td>\n",
       "      <td>Account opening, closing, or management</td>\n",
       "      <td>NaN</td>\n",
       "      <td>NaN</td>\n",
       "      <td>NaN</td>\n",
       "      <td>PNC Bank N.A.</td>\n",
       "      <td>AL</td>\n",
       "      <td>35080</td>\n",
       "      <td>Older American</td>\n",
       "      <td>Consent not provided</td>\n",
       "      <td>Web</td>\n",
       "      <td>03/20/2015</td>\n",
       "      <td>Closed with explanation</td>\n",
       "      <td>Yes</td>\n",
       "      <td>Yes</td>\n",
       "      <td>1292440</td>\n",
       "    </tr>\n",
       "    <tr>\n",
       "      <th>559788</th>\n",
       "      <td>02/18/2014</td>\n",
       "      <td>Mortgage</td>\n",
       "      <td>Conventional fixed mortgage</td>\n",
       "      <td>Loan modification,collection,foreclosure</td>\n",
       "      <td>NaN</td>\n",
       "      <td>NaN</td>\n",
       "      <td>NaN</td>\n",
       "      <td>PNC Bank N.A.</td>\n",
       "      <td>NJ</td>\n",
       "      <td>07719</td>\n",
       "      <td>NaN</td>\n",
       "      <td>NaN</td>\n",
       "      <td>Web</td>\n",
       "      <td>02/26/2014</td>\n",
       "      <td>Closed with explanation</td>\n",
       "      <td>Yes</td>\n",
       "      <td>No</td>\n",
       "      <td>718324</td>\n",
       "    </tr>\n",
       "    <tr>\n",
       "      <th>290729</th>\n",
       "      <td>09/09/2016</td>\n",
       "      <td>Consumer Loan</td>\n",
       "      <td>Installment loan</td>\n",
       "      <td>Taking out the loan or lease</td>\n",
       "      <td>NaN</td>\n",
       "      <td>I had my credit score ran 2 times by Spring Le...</td>\n",
       "      <td>NaN</td>\n",
       "      <td>ONEMAIN FINANCIAL HOLDINGS, LLC.</td>\n",
       "      <td>TN</td>\n",
       "      <td>378XX</td>\n",
       "      <td>NaN</td>\n",
       "      <td>Consent provided</td>\n",
       "      <td>Web</td>\n",
       "      <td>09/13/2016</td>\n",
       "      <td>Closed with explanation</td>\n",
       "      <td>Yes</td>\n",
       "      <td>No</td>\n",
       "      <td>2102639</td>\n",
       "    </tr>\n",
       "    <tr>\n",
       "      <th>382875</th>\n",
       "      <td>04/23/2016</td>\n",
       "      <td>Debt collection</td>\n",
       "      <td>I do not know</td>\n",
       "      <td>Communication tactics</td>\n",
       "      <td>Frequent or repeated calls</td>\n",
       "      <td>NaN</td>\n",
       "      <td>Company believes it acted appropriately as aut...</td>\n",
       "      <td>ERC</td>\n",
       "      <td>TN</td>\n",
       "      <td>38478</td>\n",
       "      <td>NaN</td>\n",
       "      <td>Consent not provided</td>\n",
       "      <td>Web</td>\n",
       "      <td>04/27/2016</td>\n",
       "      <td>Closed with non-monetary relief</td>\n",
       "      <td>Yes</td>\n",
       "      <td>Yes</td>\n",
       "      <td>1891827</td>\n",
       "    </tr>\n",
       "    <tr>\n",
       "      <th>656826</th>\n",
       "      <td>08/04/2016</td>\n",
       "      <td>Credit reporting</td>\n",
       "      <td>NaN</td>\n",
       "      <td>Incorrect information on credit report</td>\n",
       "      <td>Account status</td>\n",
       "      <td>NaN</td>\n",
       "      <td>Company has responded to the consumer and the ...</td>\n",
       "      <td>Experian Information Solutions Inc.</td>\n",
       "      <td>GA</td>\n",
       "      <td>30041</td>\n",
       "      <td>NaN</td>\n",
       "      <td>Consent not provided</td>\n",
       "      <td>Web</td>\n",
       "      <td>08/04/2016</td>\n",
       "      <td>Closed with non-monetary relief</td>\n",
       "      <td>Yes</td>\n",
       "      <td>No</td>\n",
       "      <td>2044411</td>\n",
       "    </tr>\n",
       "  </tbody>\n",
       "</table>\n",
       "</div>"
      ],
      "text/plain": [
       "       Date received                  Product                  Sub-product  \\\n",
       "358563    03/20/2015  Bank account or service             Checking account   \n",
       "559788    02/18/2014                 Mortgage  Conventional fixed mortgage   \n",
       "290729    09/09/2016            Consumer Loan             Installment loan   \n",
       "382875    04/23/2016          Debt collection                I do not know   \n",
       "656826    08/04/2016         Credit reporting                          NaN   \n",
       "\n",
       "                                           Issue                   Sub-issue  \\\n",
       "358563   Account opening, closing, or management                         NaN   \n",
       "559788  Loan modification,collection,foreclosure                         NaN   \n",
       "290729              Taking out the loan or lease                         NaN   \n",
       "382875                     Communication tactics  Frequent or repeated calls   \n",
       "656826    Incorrect information on credit report              Account status   \n",
       "\n",
       "                             Consumer complaint narrative  \\\n",
       "358563                                                NaN   \n",
       "559788                                                NaN   \n",
       "290729  I had my credit score ran 2 times by Spring Le...   \n",
       "382875                                                NaN   \n",
       "656826                                                NaN   \n",
       "\n",
       "                                  Company public response  \\\n",
       "358563                                                NaN   \n",
       "559788                                                NaN   \n",
       "290729                                                NaN   \n",
       "382875  Company believes it acted appropriately as aut...   \n",
       "656826  Company has responded to the consumer and the ...   \n",
       "\n",
       "                                    Company State ZIP code            Tags  \\\n",
       "358563                        PNC Bank N.A.    AL    35080  Older American   \n",
       "559788                        PNC Bank N.A.    NJ    07719             NaN   \n",
       "290729     ONEMAIN FINANCIAL HOLDINGS, LLC.    TN    378XX             NaN   \n",
       "382875                                  ERC    TN    38478             NaN   \n",
       "656826  Experian Information Solutions Inc.    GA    30041             NaN   \n",
       "\n",
       "       Consumer consent provided? Submitted via Date sent to company  \\\n",
       "358563       Consent not provided           Web           03/20/2015   \n",
       "559788                        NaN           Web           02/26/2014   \n",
       "290729           Consent provided           Web           09/13/2016   \n",
       "382875       Consent not provided           Web           04/27/2016   \n",
       "656826       Consent not provided           Web           08/04/2016   \n",
       "\n",
       "           Company response to consumer Timely response? Consumer disputed?  \\\n",
       "358563          Closed with explanation              Yes                Yes   \n",
       "559788          Closed with explanation              Yes                 No   \n",
       "290729          Closed with explanation              Yes                 No   \n",
       "382875  Closed with non-monetary relief              Yes                Yes   \n",
       "656826  Closed with non-monetary relief              Yes                 No   \n",
       "\n",
       "        Complaint ID  \n",
       "358563       1292440  \n",
       "559788        718324  \n",
       "290729       2102639  \n",
       "382875       1891827  \n",
       "656826       2044411  "
      ]
     },
     "execution_count": 6,
     "metadata": {},
     "output_type": "execute_result"
    }
   ],
   "source": [
    "df.head()"
   ]
  },
  {
   "cell_type": "code",
   "execution_count": 7,
   "metadata": {
    "collapsed": true
   },
   "outputs": [],
   "source": [
    "df.dropna(axis=0, subset=['Consumer disputed?'], inplace=True)"
   ]
  },
  {
   "cell_type": "code",
   "execution_count": 8,
   "metadata": {
    "collapsed": true
   },
   "outputs": [],
   "source": [
    "top_issue = list(pd.DataFrame(df['Issue'].value_counts()[0:5]).index)\n",
    "\n",
    "df_top_issue = df[df['Issue'].isin(top_issue)]"
   ]
  },
  {
   "cell_type": "code",
   "execution_count": 9,
   "metadata": {},
   "outputs": [
    {
     "data": {
      "text/plain": [
       "Loan modification,collection,foreclosure    11305\n",
       "Incorrect information on credit report      10198\n",
       "Loan servicing, payments, escrow account     7744\n",
       "Cont'd attempts collect debt not owed        6169\n",
       "Account opening, closing, or management      3756\n",
       "Name: Issue, dtype: int64"
      ]
     },
     "execution_count": 9,
     "metadata": {},
     "output_type": "execute_result"
    }
   ],
   "source": [
    "df_top_issue['Issue'].value_counts()"
   ]
  },
  {
   "cell_type": "code",
   "execution_count": 10,
   "metadata": {
    "collapsed": true
   },
   "outputs": [],
   "source": [
    "top_company = list(pd.DataFrame(df_top_issue.Company.value_counts()[0:10]).index)\n",
    "df_top_issue_comp = df_top_issue[df_top_issue['Company'].isin(top_company)]"
   ]
  },
  {
   "cell_type": "code",
   "execution_count": 11,
   "metadata": {},
   "outputs": [
    {
     "data": {
      "text/plain": [
       "BANK OF AMERICA, NATIONAL ASSOCIATION     4168\n",
       "EQUIFAX, INC.                             3415\n",
       "Experian Information Solutions Inc.       3230\n",
       "WELLS FARGO & COMPANY                     3054\n",
       "TRANSUNION INTERMEDIATE HOLDINGS, INC.    3033\n",
       "OCWEN LOAN SERVICING LLC                  2142\n",
       "JPMORGAN CHASE & CO.                      1963\n",
       "NATIONSTAR MORTGAGE                       1401\n",
       "CITIBANK, N.A.                            1108\n",
       "Ditech Financial LLC                      1001\n",
       "Name: Company, dtype: int64"
      ]
     },
     "execution_count": 11,
     "metadata": {},
     "output_type": "execute_result"
    }
   ],
   "source": [
    "df_top_issue_comp['Company'].value_counts()"
   ]
  },
  {
   "cell_type": "code",
   "execution_count": 12,
   "metadata": {},
   "outputs": [
    {
     "data": {
      "text/plain": [
       "<matplotlib.axes._subplots.AxesSubplot at 0x121706ef0>"
      ]
     },
     "execution_count": 12,
     "metadata": {},
     "output_type": "execute_result"
    },
    {
     "data": {
      "image/png": "[encoded data removed]",
      "text/plain": [
       "<matplotlib.figure.Figure at 0x10595e860>"
      ]
     },
     "metadata": {},
     "output_type": "display_data"
    }
   ],
   "source": [
    "#check how many complaints were disputed. \n",
    "sns.countplot(df_top_issue_comp['Consumer disputed?'])"
   ]
  },
  {
   "cell_type": "code",
   "execution_count": 13,
   "metadata": {
    "collapsed": true
   },
   "outputs": [],
   "source": [
    "# choose categoric columns that we are using for initial test\n",
    "categoric = df_top_issue_comp[['Product','Issue', 'Company', 'Consumer consent provided?', 'Submitted via', 'Timely response?', 'Company response to consumer']]\n",
    "target_d = df_top_issue_comp['Consumer disputed?']"
   ]
  },
  {
   "cell_type": "code",
   "execution_count": 14,
   "metadata": {
    "collapsed": true
   },
   "outputs": [],
   "source": [
    "df_dummy_cate = pd.get_dummies(data=categoric, drop_first=True)\n",
    "target_dummy = pd.get_dummies(data=target_d, drop_first=True)\n",
    "df_dummy = df_dummy_cate.join(target_dummy)"
   ]
  },
  {
   "cell_type": "code",
   "execution_count": 15,
   "metadata": {},
   "outputs": [
    {
     "data": {
      "text/plain": [
       "Product_Credit reporting                                       -0.093806\n",
       "Product_Debt collection                                         0.002324\n",
       "Product_Mortgage                                                0.097333\n",
       "Issue_Cont'd attempts collect debt not owed                     0.002324\n",
       "Issue_Incorrect information on credit report                   -0.093806\n",
       "Issue_Loan modification,collection,foreclosure                  0.058027\n",
       "Issue_Loan servicing, payments, escrow account                  0.054463\n",
       "Company_CITIBANK, N.A.                                          0.002633\n",
       "Company_Ditech Financial LLC                                    0.015973\n",
       "Company_EQUIFAX, INC.                                           0.008675\n",
       "Company_Experian Information Solutions Inc.                    -0.081655\n",
       "Company_JPMORGAN CHASE & CO.                                    0.020702\n",
       "Company_NATIONSTAR MORTGAGE                                     0.024602\n",
       "Company_OCWEN LOAN SERVICING LLC                                0.033836\n",
       "Company_TRANSUNION INTERMEDIATE HOLDINGS, INC.                 -0.064238\n",
       "Company_WELLS FARGO & COMPANY                                   0.020944\n",
       "Consumer consent provided?_Consent provided                     0.024353\n",
       "Consumer consent provided?_Other                               -0.004826\n",
       "Submitted via_Fax                                               0.013048\n",
       "Submitted via_Phone                                             0.008233\n",
       "Submitted via_Postal mail                                      -0.049668\n",
       "Submitted via_Referral                                         -0.036513\n",
       "Submitted via_Web                                               0.053059\n",
       "Timely response?_Yes                                            0.005113\n",
       "Company response to consumer_Closed with explanation            0.053723\n",
       "Company response to consumer_Closed with monetary relief       -0.023783\n",
       "Company response to consumer_Closed with non-monetary relief   -0.081749\n",
       "Company response to consumer_Closed with relief                -0.001034\n",
       "Company response to consumer_Closed without relief              0.044904\n",
       "Company response to consumer_Untimely response                 -0.012618\n",
       "Yes                                                             1.000000\n",
       "Name: Yes, dtype: float64"
      ]
     },
     "execution_count": 15,
     "metadata": {},
     "output_type": "execute_result"
    }
   ],
   "source": [
    "df_dummy.corr()['Yes']"
   ]
  },
  {
   "cell_type": "code",
   "execution_count": 19,
   "metadata": {},
   "outputs": [
    {
     "name": "stdout",
     "output_type": "stream",
     "text": [
      "Consumer disputed?     Company response to consumer        No       Yes\n",
      "0                                            Closed  0.760446  0.239554\n",
      "1                           Closed with explanation  0.756865  0.243135\n",
      "2                       Closed with monetary relief  0.890265  0.109735\n",
      "3                   Closed with non-monetary relief  0.864337  0.135663\n",
      "4                                 Untimely response  1.000000       NaN\n"
     ]
    },
    {
     "data": {
      "text/plain": [
       "<matplotlib.text.Text at 0x1114213c8>"
      ]
     },
     "execution_count": 19,
     "metadata": {},
     "output_type": "execute_result"
    },
    {
     "data": {
      "image/png": "[encoded data removed]",
      "text/plain": [
       "<matplotlib.figure.Figure at 0x1113f2080>"
      ]
     },
     "metadata": {},
     "output_type": "display_data"
    }
   ],
   "source": [
    "\n",
    "#check how many complaints were disputed for each company response. \n",
    "print(df_narative.groupby('Company response to consumer')['Consumer disputed?'].value_counts(normalize=True).unstack().reset_index())\n",
    "df_response = df_narative.groupby('Company response to consumer')['Consumer disputed?'].value_counts(normalize=True).unstack().reset_index()\n",
    "df_response.dropna(subset=['Yes'], inplace=True)\n",
    "sns.barplot(y='Company response to consumer', x='Yes', data = df_response)\n",
    "plt.xlabel('Complaint disputed')"
   ]
  },
  {
   "cell_type": "code",
   "execution_count": 20,
   "metadata": {
    "collapsed": true
   },
   "outputs": [],
   "source": [
    "df['narative_bool'] = pd.isnull(df['Consumer complaint narrative'])"
   ]
  },
  {
   "cell_type": "code",
   "execution_count": 21,
   "metadata": {
    "collapsed": true
   },
   "outputs": [],
   "source": [
    "df['narative_int'] = df['narative_bool'].astype(int)"
   ]
  },
  {
   "cell_type": "code",
   "execution_count": 22,
   "metadata": {
    "scrolled": true
   },
   "outputs": [
    {
     "data": {
      "text/html": [
       "<div>\n",
       "<style>\n",
       "    .dataframe thead tr:only-child th {\n",
       "        text-align: right;\n",
       "    }\n",
       "\n",
       "    .dataframe thead th {\n",
       "        text-align: left;\n",
       "    }\n",
       "\n",
       "    .dataframe tbody tr th {\n",
       "        vertical-align: top;\n",
       "    }\n",
       "</style>\n",
       "<table border=\"1\" class=\"dataframe\">\n",
       "  <thead>\n",
       "    <tr style=\"text-align: right;\">\n",
       "      <th>narative_bool</th>\n",
       "      <th>False</th>\n",
       "      <th>True</th>\n",
       "    </tr>\n",
       "    <tr>\n",
       "      <th>Consumer disputed?</th>\n",
       "      <th></th>\n",
       "      <th></th>\n",
       "    </tr>\n",
       "  </thead>\n",
       "  <tbody>\n",
       "    <tr>\n",
       "      <th>No</th>\n",
       "      <td>0.205160</td>\n",
       "      <td>0.794840</td>\n",
       "    </tr>\n",
       "    <tr>\n",
       "      <th>Yes</th>\n",
       "      <td>0.243906</td>\n",
       "      <td>0.756094</td>\n",
       "    </tr>\n",
       "  </tbody>\n",
       "</table>\n",
       "</div>"
      ],
      "text/plain": [
       "narative_bool          False     True \n",
       "Consumer disputed?                    \n",
       "No                  0.205160  0.794840\n",
       "Yes                 0.243906  0.756094"
      ]
     },
     "execution_count": 22,
     "metadata": {},
     "output_type": "execute_result"
    }
   ],
   "source": [
    "# did narrative or not have an effect on dispute?\n",
    "df.groupby('Consumer disputed?')['narative_bool'].value_counts(normalize=True).unstack()"
   ]
  },
  {
   "cell_type": "code",
   "execution_count": 23,
   "metadata": {},
   "outputs": [
    {
     "data": {
      "text/plain": [
       "(array([ 0,  1,  2,  3,  4,  5,  6,  7,  8,  9, 10, 11]),\n",
       " <a list of 12 Text xticklabel objects>)"
      ]
     },
     "execution_count": 23,
     "metadata": {},
     "output_type": "execute_result"
    },
    {
     "data": {
      "image/png": "[encoded data removed]",
      "text/plain": [
       "<matplotlib.figure.Figure at 0x111416e48>"
      ]
     },
     "metadata": {},
     "output_type": "display_data"
    }
   ],
   "source": [
    "#how many complaints for each financial product?\n",
    "sns.countplot(df['Product'], color='blue')\n",
    "plt.xticks(rotation=40, ha=\"right\")"
   ]
  },
  {
   "cell_type": "code",
   "execution_count": 24,
   "metadata": {
    "scrolled": true
   },
   "outputs": [
    {
     "data": {
      "text/plain": [
       "<matplotlib.text.Text at 0x113828160>"
      ]
     },
     "execution_count": 24,
     "metadata": {},
     "output_type": "execute_result"
    },
    {
     "data": {
      "image/png": "[encoded data removed]",
      "text/plain": [
       "<matplotlib.figure.Figure at 0x1137b5470>"
      ]
     },
     "metadata": {},
     "output_type": "display_data"
    }
   ],
   "source": [
    "# any product particularly easy to be disputed?\n",
    "df_product = df.groupby('Product')['Consumer disputed?'].value_counts(normalize=True).unstack().reset_index()[:-1]\n",
    "sns.barplot(y='Product', x='Yes', data = df_product.sort_values('Yes'), palette='Blues')\n",
    "plt.xlabel('Complaint disputed')"
   ]
  },
  {
   "cell_type": "code",
   "execution_count": 25,
   "metadata": {},
   "outputs": [
    {
     "data": {
      "text/plain": [
       "<matplotlib.text.Text at 0x113e632e8>"
      ]
     },
     "execution_count": 25,
     "metadata": {},
     "output_type": "execute_result"
    },
    {
     "data": {
      "image/png": "[encoded data removed]",
      "text/plain": [
       "<matplotlib.figure.Figure at 0x1137b5e10>"
      ]
     },
     "metadata": {},
     "output_type": "display_data"
    }
   ],
   "source": [
    "#most appeared companies VS disputed?\n",
    "df_comp = df_top_issue_comp.groupby('Company')['Consumer disputed?'].value_counts(normalize=True).unstack().reset_index()\n",
    "sns.barplot(y='Company', x='Yes', data = df_comp.sort_values('Yes'))\n",
    "plt.xlabel('Complaint disputed')"
   ]
  },
  {
   "cell_type": "code",
   "execution_count": 26,
   "metadata": {},
   "outputs": [
    {
     "name": "stderr",
     "output_type": "stream",
     "text": [
      "/anaconda/lib/python3.6/site-packages/ipykernel_launcher.py:2: SettingWithCopyWarning: \n",
      "A value is trying to be set on a copy of a slice from a DataFrame.\n",
      "Try using .loc[row_indexer,col_indexer] = value instead\n",
      "\n",
      "See the caveats in the documentation: http://pandas.pydata.org/pandas-docs/stable/indexing.html#indexing-view-versus-copy\n",
      "  \n"
     ]
    },
    {
     "data": {
      "text/plain": [
       "<matplotlib.axes._subplots.AxesSubplot at 0x1137f3c18>"
      ]
     },
     "execution_count": 26,
     "metadata": {},
     "output_type": "execute_result"
    },
    {
     "data": {
      "image/png": "[encoded data removed]",
      "text/plain": [
       "<matplotlib.figure.Figure at 0x113d030b8>"
      ]
     },
     "metadata": {},
     "output_type": "display_data"
    }
   ],
   "source": [
    "df_narative = df.dropna(axis=0, subset=['Consumer complaint narrative'])\n",
    "df_narative['NarativeLength'] = [len(nara) for nara in df_narative['Consumer complaint narrative']]\n",
    "# length of the narrative VS consumer disputed?\n",
    "sns.barplot(data=df_narative, y='NarativeLength', x='Consumer disputed?')"
   ]
  },
  {
   "cell_type": "code",
   "execution_count": 41,
   "metadata": {
    "collapsed": true
   },
   "outputs": [],
   "source": [
    "df_nara_bool = df['Consumer complaint narrative'].fillna(0)"
   ]
  },
  {
   "cell_type": "code",
   "execution_count": 42,
   "metadata": {
    "collapsed": true
   },
   "outputs": [],
   "source": [
    "df_nara_bool2=[]\n",
    "for nara in df_nara_bool:\n",
    "    if nara is not 0:\n",
    "        df_nara_bool2.append(1)\n",
    "    else: \n",
    "        df_nara_bool2.append(0)"
   ]
  },
  {
   "cell_type": "code",
   "execution_count": 43,
   "metadata": {
    "collapsed": true
   },
   "outputs": [],
   "source": [
    "df['Narrative_bool'] = df_nara_bool2"
   ]
  },
  {
   "cell_type": "code",
   "execution_count": 53,
   "metadata": {},
   "outputs": [
    {
     "data": {
      "text/plain": [
       "<matplotlib.text.Text at 0x112fe6c88>"
      ]
     },
     "execution_count": 53,
     "metadata": {},
     "output_type": "execute_result"
    },
    {
     "data": {
      "image/png": "[encoded data removed]",
      "text/plain": [
       "<matplotlib.figure.Figure at 0x112f79d68>"
      ]
     },
     "metadata": {},
     "output_type": "display_data"
    }
   ],
   "source": [
    "df_narrative_bool = df.groupby('Narrative_bool')['Consumer disputed?'].value_counts(normalize=True).unstack().reset_index()\n",
    "df_narrative_bool\n",
    "sns.barplot(x='Narrative_bool', y='Yes', data = df_narrative_bool.sort_values('Yes'))\n",
    "plt.ylabel('Complaint disputed')\n",
    "plt.xlabel('Whether Consumer Authorize Narrative')"
   ]
  },
  {
   "cell_type": "code",
   "execution_count": null,
   "metadata": {
    "collapsed": true
   },
   "outputs": [],
   "source": []
  }
 ],
 "metadata": {
  "kernelspec": {
   "display_name": "Python 3",
   "language": "python",
   "name": "python3"
  },
  "language_info": {
   "codemirror_mode": {
    "name": "ipython",
    "version": 3
   },
   "file_extension": ".py",
   "mimetype": "text/x-python",
   "name": "python",
   "nbconvert_exporter": "python",
   "pygments_lexer": "ipython3",
   "version": "3.6.1"
  }
 },
 "nbformat": 4,
 "nbformat_minor": 2
}
